
% Default to the notebook output style

    


% Inherit from the specified cell style.




    
\documentclass[11pt]{article}

    
    
    \usepackage[T1]{fontenc}
    % Nicer default font (+ math font) than Computer Modern for most use cases
    \usepackage{mathpazo}

    % Basic figure setup, for now with no caption control since it's done
    % automatically by Pandoc (which extracts ![](path) syntax from Markdown).
    \usepackage{graphicx}
    % We will generate all images so they have a width \maxwidth. This means
    % that they will get their normal width if they fit onto the page, but
    % are scaled down if they would overflow the margins.
    \makeatletter
    \def\maxwidth{\ifdim\Gin@nat@width>\linewidth\linewidth
    \else\Gin@nat@width\fi}
    \makeatother
    \let\Oldincludegraphics\includegraphics
    % Set max figure width to be 80% of text width, for now hardcoded.
    \renewcommand{\includegraphics}[1]{\Oldincludegraphics[width=.8\maxwidth]{#1}}
    % Ensure that by default, figures have no caption (until we provide a
    % proper Figure object with a Caption API and a way to capture that
    % in the conversion process - todo).
    \usepackage{caption}
    \DeclareCaptionLabelFormat{nolabel}{}
    \captionsetup{labelformat=nolabel}

    \usepackage{adjustbox} % Used to constrain images to a maximum size 
    \usepackage{xcolor} % Allow colors to be defined
    \usepackage{enumerate} % Needed for markdown enumerations to work
    \usepackage{geometry} % Used to adjust the document margins
    \usepackage{amsmath} % Equations
    \usepackage{amssymb} % Equations
    \usepackage{textcomp} % defines textquotesingle
    % Hack from http://tex.stackexchange.com/a/47451/13684:
    \AtBeginDocument{%
        \def\PYZsq{\textquotesingle}% Upright quotes in Pygmentized code
    }
    \usepackage{upquote} % Upright quotes for verbatim code
    \usepackage{eurosym} % defines \euro
    \usepackage[mathletters]{ucs} % Extended unicode (utf-8) support
    \usepackage[utf8x]{inputenc} % Allow utf-8 characters in the tex document
    \usepackage{fancyvrb} % verbatim replacement that allows latex
    \usepackage{grffile} % extends the file name processing of package graphics 
                         % to support a larger range 
    % The hyperref package gives us a pdf with properly built
    % internal navigation ('pdf bookmarks' for the table of contents,
    % internal cross-reference links, web links for URLs, etc.)
    \usepackage{hyperref}
    \usepackage{longtable} % longtable support required by pandoc >1.10
    \usepackage{booktabs}  % table support for pandoc > 1.12.2
    \usepackage[inline]{enumitem} % IRkernel/repr support (it uses the enumerate* environment)
    \usepackage[normalem]{ulem} % ulem is needed to support strikethroughs (\sout)
                                % normalem makes italics be italics, not underlines
    

    
    
    % Colors for the hyperref package
    \definecolor{urlcolor}{rgb}{0,.145,.698}
    \definecolor{linkcolor}{rgb}{.71,0.21,0.01}
    \definecolor{citecolor}{rgb}{.12,.54,.11}

    % ANSI colors
    \definecolor{ansi-black}{HTML}{3E424D}
    \definecolor{ansi-black-intense}{HTML}{282C36}
    \definecolor{ansi-red}{HTML}{E75C58}
    \definecolor{ansi-red-intense}{HTML}{B22B31}
    \definecolor{ansi-green}{HTML}{00A250}
    \definecolor{ansi-green-intense}{HTML}{007427}
    \definecolor{ansi-yellow}{HTML}{DDB62B}
    \definecolor{ansi-yellow-intense}{HTML}{B27D12}
    \definecolor{ansi-blue}{HTML}{208FFB}
    \definecolor{ansi-blue-intense}{HTML}{0065CA}
    \definecolor{ansi-magenta}{HTML}{D160C4}
    \definecolor{ansi-magenta-intense}{HTML}{A03196}
    \definecolor{ansi-cyan}{HTML}{60C6C8}
    \definecolor{ansi-cyan-intense}{HTML}{258F8F}
    \definecolor{ansi-white}{HTML}{C5C1B4}
    \definecolor{ansi-white-intense}{HTML}{A1A6B2}

    % commands and environments needed by pandoc snippets
    % extracted from the output of `pandoc -s`
    \providecommand{\tightlist}{%
      \setlength{\itemsep}{0pt}\setlength{\parskip}{0pt}}
    \DefineVerbatimEnvironment{Highlighting}{Verbatim}{commandchars=\\\{\}}
    % Add ',fontsize=\small' for more characters per line
    \newenvironment{Shaded}{}{}
    \newcommand{\KeywordTok}[1]{\textcolor[rgb]{0.00,0.44,0.13}{\textbf{{#1}}}}
    \newcommand{\DataTypeTok}[1]{\textcolor[rgb]{0.56,0.13,0.00}{{#1}}}
    \newcommand{\DecValTok}[1]{\textcolor[rgb]{0.25,0.63,0.44}{{#1}}}
    \newcommand{\BaseNTok}[1]{\textcolor[rgb]{0.25,0.63,0.44}{{#1}}}
    \newcommand{\FloatTok}[1]{\textcolor[rgb]{0.25,0.63,0.44}{{#1}}}
    \newcommand{\CharTok}[1]{\textcolor[rgb]{0.25,0.44,0.63}{{#1}}}
    \newcommand{\StringTok}[1]{\textcolor[rgb]{0.25,0.44,0.63}{{#1}}}
    \newcommand{\CommentTok}[1]{\textcolor[rgb]{0.38,0.63,0.69}{\textit{{#1}}}}
    \newcommand{\OtherTok}[1]{\textcolor[rgb]{0.00,0.44,0.13}{{#1}}}
    \newcommand{\AlertTok}[1]{\textcolor[rgb]{1.00,0.00,0.00}{\textbf{{#1}}}}
    \newcommand{\FunctionTok}[1]{\textcolor[rgb]{0.02,0.16,0.49}{{#1}}}
    \newcommand{\RegionMarkerTok}[1]{{#1}}
    \newcommand{\ErrorTok}[1]{\textcolor[rgb]{1.00,0.00,0.00}{\textbf{{#1}}}}
    \newcommand{\NormalTok}[1]{{#1}}
    
    % Additional commands for more recent versions of Pandoc
    \newcommand{\ConstantTok}[1]{\textcolor[rgb]{0.53,0.00,0.00}{{#1}}}
    \newcommand{\SpecialCharTok}[1]{\textcolor[rgb]{0.25,0.44,0.63}{{#1}}}
    \newcommand{\VerbatimStringTok}[1]{\textcolor[rgb]{0.25,0.44,0.63}{{#1}}}
    \newcommand{\SpecialStringTok}[1]{\textcolor[rgb]{0.73,0.40,0.53}{{#1}}}
    \newcommand{\ImportTok}[1]{{#1}}
    \newcommand{\DocumentationTok}[1]{\textcolor[rgb]{0.73,0.13,0.13}{\textit{{#1}}}}
    \newcommand{\AnnotationTok}[1]{\textcolor[rgb]{0.38,0.63,0.69}{\textbf{\textit{{#1}}}}}
    \newcommand{\CommentVarTok}[1]{\textcolor[rgb]{0.38,0.63,0.69}{\textbf{\textit{{#1}}}}}
    \newcommand{\VariableTok}[1]{\textcolor[rgb]{0.10,0.09,0.49}{{#1}}}
    \newcommand{\ControlFlowTok}[1]{\textcolor[rgb]{0.00,0.44,0.13}{\textbf{{#1}}}}
    \newcommand{\OperatorTok}[1]{\textcolor[rgb]{0.40,0.40,0.40}{{#1}}}
    \newcommand{\BuiltInTok}[1]{{#1}}
    \newcommand{\ExtensionTok}[1]{{#1}}
    \newcommand{\PreprocessorTok}[1]{\textcolor[rgb]{0.74,0.48,0.00}{{#1}}}
    \newcommand{\AttributeTok}[1]{\textcolor[rgb]{0.49,0.56,0.16}{{#1}}}
    \newcommand{\InformationTok}[1]{\textcolor[rgb]{0.38,0.63,0.69}{\textbf{\textit{{#1}}}}}
    \newcommand{\WarningTok}[1]{\textcolor[rgb]{0.38,0.63,0.69}{\textbf{\textit{{#1}}}}}
    
    
    % Define a nice break command that doesn't care if a line doesn't already
    % exist.
    \def\br{\hspace*{\fill} \\* }
    % Math Jax compatability definitions
    \def\gt{>}
    \def\lt{<}
    % Document parameters
    \title{credit\_risk}
    
    
    

    % Pygments definitions
    
\makeatletter
\def\PY@reset{\let\PY@it=\relax \let\PY@bf=\relax%
    \let\PY@ul=\relax \let\PY@tc=\relax%
    \let\PY@bc=\relax \let\PY@ff=\relax}
\def\PY@tok#1{\csname PY@tok@#1\endcsname}
\def\PY@toks#1+{\ifx\relax#1\empty\else%
    \PY@tok{#1}\expandafter\PY@toks\fi}
\def\PY@do#1{\PY@bc{\PY@tc{\PY@ul{%
    \PY@it{\PY@bf{\PY@ff{#1}}}}}}}
\def\PY#1#2{\PY@reset\PY@toks#1+\relax+\PY@do{#2}}

\expandafter\def\csname PY@tok@w\endcsname{\def\PY@tc##1{\textcolor[rgb]{0.73,0.73,0.73}{##1}}}
\expandafter\def\csname PY@tok@c\endcsname{\let\PY@it=\textit\def\PY@tc##1{\textcolor[rgb]{0.25,0.50,0.50}{##1}}}
\expandafter\def\csname PY@tok@cp\endcsname{\def\PY@tc##1{\textcolor[rgb]{0.74,0.48,0.00}{##1}}}
\expandafter\def\csname PY@tok@k\endcsname{\let\PY@bf=\textbf\def\PY@tc##1{\textcolor[rgb]{0.00,0.50,0.00}{##1}}}
\expandafter\def\csname PY@tok@kp\endcsname{\def\PY@tc##1{\textcolor[rgb]{0.00,0.50,0.00}{##1}}}
\expandafter\def\csname PY@tok@kt\endcsname{\def\PY@tc##1{\textcolor[rgb]{0.69,0.00,0.25}{##1}}}
\expandafter\def\csname PY@tok@o\endcsname{\def\PY@tc##1{\textcolor[rgb]{0.40,0.40,0.40}{##1}}}
\expandafter\def\csname PY@tok@ow\endcsname{\let\PY@bf=\textbf\def\PY@tc##1{\textcolor[rgb]{0.67,0.13,1.00}{##1}}}
\expandafter\def\csname PY@tok@nb\endcsname{\def\PY@tc##1{\textcolor[rgb]{0.00,0.50,0.00}{##1}}}
\expandafter\def\csname PY@tok@nf\endcsname{\def\PY@tc##1{\textcolor[rgb]{0.00,0.00,1.00}{##1}}}
\expandafter\def\csname PY@tok@nc\endcsname{\let\PY@bf=\textbf\def\PY@tc##1{\textcolor[rgb]{0.00,0.00,1.00}{##1}}}
\expandafter\def\csname PY@tok@nn\endcsname{\let\PY@bf=\textbf\def\PY@tc##1{\textcolor[rgb]{0.00,0.00,1.00}{##1}}}
\expandafter\def\csname PY@tok@ne\endcsname{\let\PY@bf=\textbf\def\PY@tc##1{\textcolor[rgb]{0.82,0.25,0.23}{##1}}}
\expandafter\def\csname PY@tok@nv\endcsname{\def\PY@tc##1{\textcolor[rgb]{0.10,0.09,0.49}{##1}}}
\expandafter\def\csname PY@tok@no\endcsname{\def\PY@tc##1{\textcolor[rgb]{0.53,0.00,0.00}{##1}}}
\expandafter\def\csname PY@tok@nl\endcsname{\def\PY@tc##1{\textcolor[rgb]{0.63,0.63,0.00}{##1}}}
\expandafter\def\csname PY@tok@ni\endcsname{\let\PY@bf=\textbf\def\PY@tc##1{\textcolor[rgb]{0.60,0.60,0.60}{##1}}}
\expandafter\def\csname PY@tok@na\endcsname{\def\PY@tc##1{\textcolor[rgb]{0.49,0.56,0.16}{##1}}}
\expandafter\def\csname PY@tok@nt\endcsname{\let\PY@bf=\textbf\def\PY@tc##1{\textcolor[rgb]{0.00,0.50,0.00}{##1}}}
\expandafter\def\csname PY@tok@nd\endcsname{\def\PY@tc##1{\textcolor[rgb]{0.67,0.13,1.00}{##1}}}
\expandafter\def\csname PY@tok@s\endcsname{\def\PY@tc##1{\textcolor[rgb]{0.73,0.13,0.13}{##1}}}
\expandafter\def\csname PY@tok@sd\endcsname{\let\PY@it=\textit\def\PY@tc##1{\textcolor[rgb]{0.73,0.13,0.13}{##1}}}
\expandafter\def\csname PY@tok@si\endcsname{\let\PY@bf=\textbf\def\PY@tc##1{\textcolor[rgb]{0.73,0.40,0.53}{##1}}}
\expandafter\def\csname PY@tok@se\endcsname{\let\PY@bf=\textbf\def\PY@tc##1{\textcolor[rgb]{0.73,0.40,0.13}{##1}}}
\expandafter\def\csname PY@tok@sr\endcsname{\def\PY@tc##1{\textcolor[rgb]{0.73,0.40,0.53}{##1}}}
\expandafter\def\csname PY@tok@ss\endcsname{\def\PY@tc##1{\textcolor[rgb]{0.10,0.09,0.49}{##1}}}
\expandafter\def\csname PY@tok@sx\endcsname{\def\PY@tc##1{\textcolor[rgb]{0.00,0.50,0.00}{##1}}}
\expandafter\def\csname PY@tok@m\endcsname{\def\PY@tc##1{\textcolor[rgb]{0.40,0.40,0.40}{##1}}}
\expandafter\def\csname PY@tok@gh\endcsname{\let\PY@bf=\textbf\def\PY@tc##1{\textcolor[rgb]{0.00,0.00,0.50}{##1}}}
\expandafter\def\csname PY@tok@gu\endcsname{\let\PY@bf=\textbf\def\PY@tc##1{\textcolor[rgb]{0.50,0.00,0.50}{##1}}}
\expandafter\def\csname PY@tok@gd\endcsname{\def\PY@tc##1{\textcolor[rgb]{0.63,0.00,0.00}{##1}}}
\expandafter\def\csname PY@tok@gi\endcsname{\def\PY@tc##1{\textcolor[rgb]{0.00,0.63,0.00}{##1}}}
\expandafter\def\csname PY@tok@gr\endcsname{\def\PY@tc##1{\textcolor[rgb]{1.00,0.00,0.00}{##1}}}
\expandafter\def\csname PY@tok@ge\endcsname{\let\PY@it=\textit}
\expandafter\def\csname PY@tok@gs\endcsname{\let\PY@bf=\textbf}
\expandafter\def\csname PY@tok@gp\endcsname{\let\PY@bf=\textbf\def\PY@tc##1{\textcolor[rgb]{0.00,0.00,0.50}{##1}}}
\expandafter\def\csname PY@tok@go\endcsname{\def\PY@tc##1{\textcolor[rgb]{0.53,0.53,0.53}{##1}}}
\expandafter\def\csname PY@tok@gt\endcsname{\def\PY@tc##1{\textcolor[rgb]{0.00,0.27,0.87}{##1}}}
\expandafter\def\csname PY@tok@err\endcsname{\def\PY@bc##1{\setlength{\fboxsep}{0pt}\fcolorbox[rgb]{1.00,0.00,0.00}{1,1,1}{\strut ##1}}}
\expandafter\def\csname PY@tok@kc\endcsname{\let\PY@bf=\textbf\def\PY@tc##1{\textcolor[rgb]{0.00,0.50,0.00}{##1}}}
\expandafter\def\csname PY@tok@kd\endcsname{\let\PY@bf=\textbf\def\PY@tc##1{\textcolor[rgb]{0.00,0.50,0.00}{##1}}}
\expandafter\def\csname PY@tok@kn\endcsname{\let\PY@bf=\textbf\def\PY@tc##1{\textcolor[rgb]{0.00,0.50,0.00}{##1}}}
\expandafter\def\csname PY@tok@kr\endcsname{\let\PY@bf=\textbf\def\PY@tc##1{\textcolor[rgb]{0.00,0.50,0.00}{##1}}}
\expandafter\def\csname PY@tok@bp\endcsname{\def\PY@tc##1{\textcolor[rgb]{0.00,0.50,0.00}{##1}}}
\expandafter\def\csname PY@tok@fm\endcsname{\def\PY@tc##1{\textcolor[rgb]{0.00,0.00,1.00}{##1}}}
\expandafter\def\csname PY@tok@vc\endcsname{\def\PY@tc##1{\textcolor[rgb]{0.10,0.09,0.49}{##1}}}
\expandafter\def\csname PY@tok@vg\endcsname{\def\PY@tc##1{\textcolor[rgb]{0.10,0.09,0.49}{##1}}}
\expandafter\def\csname PY@tok@vi\endcsname{\def\PY@tc##1{\textcolor[rgb]{0.10,0.09,0.49}{##1}}}
\expandafter\def\csname PY@tok@vm\endcsname{\def\PY@tc##1{\textcolor[rgb]{0.10,0.09,0.49}{##1}}}
\expandafter\def\csname PY@tok@sa\endcsname{\def\PY@tc##1{\textcolor[rgb]{0.73,0.13,0.13}{##1}}}
\expandafter\def\csname PY@tok@sb\endcsname{\def\PY@tc##1{\textcolor[rgb]{0.73,0.13,0.13}{##1}}}
\expandafter\def\csname PY@tok@sc\endcsname{\def\PY@tc##1{\textcolor[rgb]{0.73,0.13,0.13}{##1}}}
\expandafter\def\csname PY@tok@dl\endcsname{\def\PY@tc##1{\textcolor[rgb]{0.73,0.13,0.13}{##1}}}
\expandafter\def\csname PY@tok@s2\endcsname{\def\PY@tc##1{\textcolor[rgb]{0.73,0.13,0.13}{##1}}}
\expandafter\def\csname PY@tok@sh\endcsname{\def\PY@tc##1{\textcolor[rgb]{0.73,0.13,0.13}{##1}}}
\expandafter\def\csname PY@tok@s1\endcsname{\def\PY@tc##1{\textcolor[rgb]{0.73,0.13,0.13}{##1}}}
\expandafter\def\csname PY@tok@mb\endcsname{\def\PY@tc##1{\textcolor[rgb]{0.40,0.40,0.40}{##1}}}
\expandafter\def\csname PY@tok@mf\endcsname{\def\PY@tc##1{\textcolor[rgb]{0.40,0.40,0.40}{##1}}}
\expandafter\def\csname PY@tok@mh\endcsname{\def\PY@tc##1{\textcolor[rgb]{0.40,0.40,0.40}{##1}}}
\expandafter\def\csname PY@tok@mi\endcsname{\def\PY@tc##1{\textcolor[rgb]{0.40,0.40,0.40}{##1}}}
\expandafter\def\csname PY@tok@il\endcsname{\def\PY@tc##1{\textcolor[rgb]{0.40,0.40,0.40}{##1}}}
\expandafter\def\csname PY@tok@mo\endcsname{\def\PY@tc##1{\textcolor[rgb]{0.40,0.40,0.40}{##1}}}
\expandafter\def\csname PY@tok@ch\endcsname{\let\PY@it=\textit\def\PY@tc##1{\textcolor[rgb]{0.25,0.50,0.50}{##1}}}
\expandafter\def\csname PY@tok@cm\endcsname{\let\PY@it=\textit\def\PY@tc##1{\textcolor[rgb]{0.25,0.50,0.50}{##1}}}
\expandafter\def\csname PY@tok@cpf\endcsname{\let\PY@it=\textit\def\PY@tc##1{\textcolor[rgb]{0.25,0.50,0.50}{##1}}}
\expandafter\def\csname PY@tok@c1\endcsname{\let\PY@it=\textit\def\PY@tc##1{\textcolor[rgb]{0.25,0.50,0.50}{##1}}}
\expandafter\def\csname PY@tok@cs\endcsname{\let\PY@it=\textit\def\PY@tc##1{\textcolor[rgb]{0.25,0.50,0.50}{##1}}}

\def\PYZbs{\char`\\}
\def\PYZus{\char`\_}
\def\PYZob{\char`\{}
\def\PYZcb{\char`\}}
\def\PYZca{\char`\^}
\def\PYZam{\char`\&}
\def\PYZlt{\char`\<}
\def\PYZgt{\char`\>}
\def\PYZsh{\char`\#}
\def\PYZpc{\char`\%}
\def\PYZdl{\char`\$}
\def\PYZhy{\char`\-}
\def\PYZsq{\char`\'}
\def\PYZdq{\char`\"}
\def\PYZti{\char`\~}
% for compatibility with earlier versions
\def\PYZat{@}
\def\PYZlb{[}
\def\PYZrb{]}
\makeatother


    % Exact colors from NB
    \definecolor{incolor}{rgb}{0.0, 0.0, 0.5}
    \definecolor{outcolor}{rgb}{0.545, 0.0, 0.0}



    
    % Prevent overflowing lines due to hard-to-break entities
    \sloppy 
    % Setup hyperref package
    \hypersetup{
      breaklinks=true,  % so long urls are correctly broken across lines
      colorlinks=true,
      urlcolor=urlcolor,
      linkcolor=linkcolor,
      citecolor=citecolor,
      }
    % Slightly bigger margins than the latex defaults
    
    \geometry{verbose,tmargin=1in,bmargin=1in,lmargin=1in,rmargin=1in}
    
    

    \begin{document}
    
    
    \maketitle
    
    

    
    \begin{Verbatim}[commandchars=\\\{\}]
{\color{incolor}In [{\color{incolor}2}]:} \PY{o}{\PYZpc{}}\PY{k}{matplotlib} inline
        \PY{k+kn}{import} \PY{n+nn}{numpy} \PY{k}{as} \PY{n+nn}{np}
        \PY{k+kn}{import} \PY{n+nn}{pandas} \PY{k}{as} \PY{n+nn}{pd}
        \PY{k+kn}{import} \PY{n+nn}{matplotlib}\PY{n+nn}{.}\PY{n+nn}{pyplot} \PY{k}{as} \PY{n+nn}{plt}
        \PY{k+kn}{import} \PY{n+nn}{scipy}\PY{n+nn}{.}\PY{n+nn}{stats} \PY{k}{as} \PY{n+nn}{stats}
\end{Verbatim}


    This is a statistical analyses on a company that gives loans out to
individuals. This company does not use credit rating as a metric, and
thereore the company wants an algorthm that correctly predicts the
probability of someone defaulting on a loan given a set of key
variables.

    \begin{Verbatim}[commandchars=\\\{\}]
{\color{incolor}In [{\color{incolor}3}]:} \PY{n}{train} \PY{o}{=} \PY{l+s+s1}{\PYZsq{}}\PY{l+s+s1}{/Users/bennicholl/Desktop/credit\PYZus{}default\PYZus{}risk/application\PYZus{}train.csv}\PY{l+s+s1}{\PYZsq{}}
        
        \PY{n}{train} \PY{o}{=} \PY{n}{pd}\PY{o}{.}\PY{n}{read\PYZus{}csv}\PY{p}{(}\PY{n}{train}\PY{p}{)}
        \PY{l+s+sd}{\PYZdq{}\PYZdq{}\PYZdq{}gets all the training examples where our target == 1\PYZdq{}\PYZdq{}\PYZdq{}}
        \PY{n}{target\PYZus{}is\PYZus{}one} \PY{o}{=} \PY{n}{train}\PY{p}{[}\PY{n}{train}\PY{p}{[}\PY{l+s+s1}{\PYZsq{}}\PY{l+s+s1}{TARGET}\PY{l+s+s1}{\PYZsq{}}\PY{p}{]} \PY{o}{==} \PY{l+m+mi}{1}\PY{p}{]}
        \PY{l+s+sd}{\PYZdq{}\PYZdq{}\PYZdq{}gets all the training examples where our target == 0\PYZdq{}\PYZdq{}\PYZdq{}}
        \PY{n}{target\PYZus{}is\PYZus{}zero} \PY{o}{=} \PY{n}{train}\PY{p}{[}\PY{n}{train}\PY{p}{[}\PY{l+s+s1}{\PYZsq{}}\PY{l+s+s1}{TARGET}\PY{l+s+s1}{\PYZsq{}}\PY{p}{]} \PY{o}{==} \PY{l+m+mi}{0}\PY{p}{]}
\end{Verbatim}


    \begin{Verbatim}[commandchars=\\\{\}]
{\color{incolor}In [{\color{incolor}4}]:} \PY{c+c1}{\PYZsh{}below code checks precentages of delinquit males vs delinquit females}
        
        \PY{l+s+sd}{\PYZdq{}\PYZdq{}\PYZdq{}all of the males that could not pay back their loan\PYZdq{}\PYZdq{}\PYZdq{}}
        \PY{n}{males\PYZus{}delinquit} \PY{o}{=} \PY{n}{target\PYZus{}is\PYZus{}one}\PY{p}{[}\PY{n}{target\PYZus{}is\PYZus{}one}\PY{p}{[}\PY{l+s+s1}{\PYZsq{}}\PY{l+s+s1}{CODE\PYZus{}GENDER}\PY{l+s+s1}{\PYZsq{}}\PY{p}{]} \PY{o}{==} \PY{l+s+s1}{\PYZsq{}}\PY{l+s+s1}{M}\PY{l+s+s1}{\PYZsq{}}\PY{p}{]}
        \PY{l+s+sd}{\PYZdq{}\PYZdq{}\PYZdq{}all of the males that could pay back their loan\PYZdq{}\PYZdq{}\PYZdq{}}
        \PY{n}{males\PYZus{}good} \PY{o}{=} \PY{n}{target\PYZus{}is\PYZus{}zero}\PY{p}{[}\PY{n}{target\PYZus{}is\PYZus{}zero}\PY{p}{[}\PY{l+s+s1}{\PYZsq{}}\PY{l+s+s1}{CODE\PYZus{}GENDER}\PY{l+s+s1}{\PYZsq{}}\PY{p}{]} \PY{o}{==} \PY{l+s+s1}{\PYZsq{}}\PY{l+s+s1}{M}\PY{l+s+s1}{\PYZsq{}}\PY{p}{]}
        \PY{c+c1}{\PYZsh{}P(delinquit | male) = 0.11 }
        \PY{n}{percent\PYZus{}delinquit\PYZus{}males} \PY{o}{=} \PY{n+nb}{len}\PY{p}{(}\PY{n}{males\PYZus{}delinquit}\PY{p}{)}\PY{o}{/}\PY{n+nb}{len}\PY{p}{(}\PY{n}{males\PYZus{}good}\PY{p}{)}
        
        \PY{l+s+sd}{\PYZdq{}\PYZdq{}\PYZdq{}all of the females that could not pay back their loan\PYZdq{}\PYZdq{}\PYZdq{}}
        \PY{n}{females\PYZus{}delinquit} \PY{o}{=} \PY{n}{target\PYZus{}is\PYZus{}one}\PY{p}{[}\PY{n}{target\PYZus{}is\PYZus{}one}\PY{p}{[}\PY{l+s+s1}{\PYZsq{}}\PY{l+s+s1}{CODE\PYZus{}GENDER}\PY{l+s+s1}{\PYZsq{}}\PY{p}{]} \PY{o}{==} \PY{l+s+s1}{\PYZsq{}}\PY{l+s+s1}{F}\PY{l+s+s1}{\PYZsq{}}\PY{p}{]}
        \PY{l+s+sd}{\PYZdq{}\PYZdq{}\PYZdq{}all of the females that could pay back their loan\PYZdq{}\PYZdq{}\PYZdq{}}
        \PY{n}{females\PYZus{}good} \PY{o}{=} \PY{n}{target\PYZus{}is\PYZus{}zero}\PY{p}{[}\PY{n}{target\PYZus{}is\PYZus{}zero}\PY{p}{[}\PY{l+s+s1}{\PYZsq{}}\PY{l+s+s1}{CODE\PYZus{}GENDER}\PY{l+s+s1}{\PYZsq{}}\PY{p}{]} \PY{o}{==} \PY{l+s+s1}{\PYZsq{}}\PY{l+s+s1}{F}\PY{l+s+s1}{\PYZsq{}}\PY{p}{]}
        \PY{c+c1}{\PYZsh{}P(delinquit | female) = 0.075}
        \PY{n}{percent\PYZus{}delinquit\PYZus{}females} \PY{o}{=} \PY{n+nb}{len}\PY{p}{(}\PY{n}{females\PYZus{}delinquit}\PY{p}{)}\PY{o}{/}\PY{n+nb}{len}\PY{p}{(}\PY{n}{females\PYZus{}good}\PY{p}{)}
\end{Verbatim}


    \begin{Verbatim}[commandchars=\\\{\}]
{\color{incolor}In [{\color{incolor}5}]:} \PY{l+s+sd}{\PYZdq{}\PYZdq{}\PYZdq{}create plot\PYZdq{}\PYZdq{}\PYZdq{}}
        \PY{n}{fig}\PY{p}{,} \PY{n}{ax} \PY{o}{=} \PY{n}{plt}\PY{o}{.}\PY{n}{subplots}\PY{p}{(}\PY{l+m+mi}{1}\PY{p}{,} \PY{l+m+mi}{1}\PY{p}{)}
        \PY{n}{ax}\PY{o}{.}\PY{n}{set\PYZus{}xlim}\PY{p}{(}\PY{o}{\PYZhy{}}\PY{l+m+mf}{0.5}\PY{p}{,} \PY{l+m+mf}{1.5}\PY{p}{)}
        \PY{n}{ax}\PY{o}{.}\PY{n}{set\PYZus{}ylim}\PY{p}{(}\PY{l+m+mi}{0}\PY{p}{,} \PY{l+m+mi}{1}\PY{p}{)}
        \PY{l+s+sd}{\PYZdq{}\PYZdq{}\PYZdq{}creates bars for delinquent males\PYZdq{}\PYZdq{}\PYZdq{}}
        \PY{n}{ax}\PY{o}{.}\PY{n}{vlines}\PY{p}{(}\PY{l+m+mi}{0}\PY{p}{,} \PY{l+m+mi}{0}\PY{p}{,} \PY{n}{percent\PYZus{}delinquit\PYZus{}males}\PY{p}{,} \PY{n}{colors}\PY{o}{=}\PY{l+s+s1}{\PYZsq{}}\PY{l+s+s1}{b}\PY{l+s+s1}{\PYZsq{}}\PY{p}{,} \PY{n}{lw}\PY{o}{=}\PY{l+m+mi}{100}\PY{p}{,} \PY{n}{alpha}\PY{o}{=}\PY{l+m+mf}{0.5}\PY{p}{)}
        \PY{l+s+sd}{\PYZdq{}\PYZdq{}\PYZdq{}creates bars for delinquent females\PYZdq{}\PYZdq{}\PYZdq{}}
        \PY{n}{ax}\PY{o}{.}\PY{n}{vlines}\PY{p}{(}\PY{l+m+mi}{1}\PY{p}{,} \PY{l+m+mi}{0}\PY{p}{,} \PY{n}{percent\PYZus{}delinquit\PYZus{}females}\PY{p}{,} \PY{n}{colors}\PY{o}{=}\PY{l+s+s1}{\PYZsq{}}\PY{l+s+s1}{b}\PY{l+s+s1}{\PYZsq{}}\PY{p}{,} \PY{n}{lw}\PY{o}{=}\PY{l+m+mi}{100}\PY{p}{,} \PY{n}{alpha}\PY{o}{=}\PY{l+m+mf}{0.5}\PY{p}{)}
        \PY{l+s+sd}{\PYZdq{}\PYZdq{}\PYZdq{}allows only 0 x value for males and 1 x value for females\PYZdq{}\PYZdq{}\PYZdq{}}
        \PY{n}{ax}\PY{o}{.}\PY{n}{set\PYZus{}xticks}\PY{p}{(}\PY{p}{[}\PY{l+m+mi}{0}\PY{p}{,}\PY{l+m+mi}{1}\PY{p}{]}\PY{p}{)}
        \PY{l+s+sd}{\PYZdq{}\PYZdq{}\PYZdq{}get the x\PYZus{}tick labels\PYZdq{}\PYZdq{}\PYZdq{}}
        \PY{n}{ticks}\PY{o}{=}\PY{n}{ax}\PY{o}{.}\PY{n}{get\PYZus{}xticks}\PY{p}{(}\PY{p}{)}\PY{o}{.}\PY{n}{tolist}\PY{p}{(}\PY{p}{)}
        \PY{l+s+sd}{\PYZdq{}\PYZdq{}\PYZdq{}change first tick to male\PYZdq{}\PYZdq{}\PYZdq{}}
        \PY{n}{ticks}\PY{p}{[}\PY{l+m+mi}{0}\PY{p}{]} \PY{o}{=} \PY{l+s+s1}{\PYZsq{}}\PY{l+s+s1}{male}\PY{l+s+s1}{\PYZsq{}}
        \PY{l+s+sd}{\PYZdq{}\PYZdq{}\PYZdq{}change second tick labels to female\PYZdq{}\PYZdq{}\PYZdq{}}
        \PY{n}{ticks}\PY{p}{[}\PY{l+m+mi}{1}\PY{p}{]} \PY{o}{=} \PY{l+s+s1}{\PYZsq{}}\PY{l+s+s1}{female}\PY{l+s+s1}{\PYZsq{}}
        \PY{l+s+sd}{\PYZdq{}\PYZdq{}\PYZdq{}set the newly appointed key/value tick pair\PYZdq{}\PYZdq{}\PYZdq{}}
        \PY{n}{ax}\PY{o}{.}\PY{n}{set\PYZus{}xticklabels}\PY{p}{(}\PY{n}{ticks}\PY{p}{)}
        \PY{n}{ax}\PY{o}{.}\PY{n}{annotate}\PY{p}{(}\PY{l+s+s1}{\PYZsq{}}\PY{l+s+s1}{P(delinquit | gender)}\PY{l+s+s1}{\PYZsq{}}\PY{p}{,} \PY{n}{xy}\PY{o}{=}\PY{p}{[}\PY{l+m+mf}{0.1}\PY{p}{,}\PY{l+m+mf}{0.8}\PY{p}{]}\PY{p}{)}
        \PY{n+nb}{print}\PY{p}{(}\PY{l+s+s2}{\PYZdq{}}\PY{l+s+s2}{probability of being delinquint if you are a male is: }\PY{l+s+s2}{\PYZdq{}}\PY{p}{,} \PY{n}{percent\PYZus{}delinquit\PYZus{}males} \PY{o}{*} \PY{l+m+mi}{100}\PY{p}{,} \PY{l+s+s1}{\PYZsq{}}\PY{l+s+s1}{\PYZpc{}}\PY{l+s+s1}{\PYZsq{}}\PY{p}{)}
        \PY{n+nb}{print}\PY{p}{(}\PY{l+s+s2}{\PYZdq{}}\PY{l+s+s2}{probability of being delinquint if you are a female is: }\PY{l+s+s2}{\PYZdq{}}\PY{p}{,} \PY{n}{percent\PYZus{}delinquit\PYZus{}females} \PY{o}{*} \PY{l+m+mi}{100}\PY{p}{,} \PY{l+s+s1}{\PYZsq{}}\PY{l+s+s1}{\PYZpc{}}\PY{l+s+s1}{\PYZsq{}}\PY{p}{)}
\end{Verbatim}


    \begin{Verbatim}[commandchars=\\\{\}]
probability of being delinquint if you are a male is:  11.286598025507393 \%
probability of being delinquint if you are a female is:  7.526105014924739 \%

    \end{Verbatim}

    \begin{center}
    \adjustimage{max size={0.9\linewidth}{0.9\paperheight}}{output_4_1.png}
    \end{center}
    { \hspace*{\fill} \\}
    
    As you can see, there is a 3.7\% difference in the probability of being
delinuint based off of gender. The next variables we'll take a look at
is having a car vs not having a car

    \begin{Verbatim}[commandchars=\\\{\}]
{\color{incolor}In [{\color{incolor}6}]:} \PY{l+s+sd}{\PYZdq{}\PYZdq{}\PYZdq{}gets number of rows where target is one and target does not have a car\PYZdq{}\PYZdq{}\PYZdq{}}
        \PY{n}{carless\PYZus{}delinquit} \PY{o}{=} \PY{n+nb}{len}\PY{p}{(}\PY{n}{target\PYZus{}is\PYZus{}one}\PY{p}{[}\PY{n}{target\PYZus{}is\PYZus{}one}\PY{p}{[}\PY{l+s+s1}{\PYZsq{}}\PY{l+s+s1}{FLAG\PYZus{}OWN\PYZus{}CAR}\PY{l+s+s1}{\PYZsq{}}\PY{p}{]} \PY{o}{==} \PY{l+s+s1}{\PYZsq{}}\PY{l+s+s1}{N}\PY{l+s+s1}{\PYZsq{}}\PY{p}{]}\PY{p}{)}
        \PY{c+c1}{\PYZsh{} P(not having a car | your delinquit)  =  .695}
        \PY{n}{delinquit\PYZus{}carless} \PY{o}{=} \PY{n}{carless\PYZus{}delinquit} \PY{o}{/} \PY{n+nb}{len}\PY{p}{(}\PY{n}{target\PYZus{}is\PYZus{}one}\PY{p}{)}
        
        
        \PY{n}{has\PYZus{}car\PYZus{}delinquit} \PY{o}{=} \PY{n+nb}{len}\PY{p}{(}\PY{n}{target\PYZus{}is\PYZus{}one}\PY{p}{[}\PY{n}{target\PYZus{}is\PYZus{}one}\PY{p}{[}\PY{l+s+s1}{\PYZsq{}}\PY{l+s+s1}{FLAG\PYZus{}OWN\PYZus{}CAR}\PY{l+s+s1}{\PYZsq{}}\PY{p}{]} \PY{o}{==} \PY{l+s+s1}{\PYZsq{}}\PY{l+s+s1}{Y}\PY{l+s+s1}{\PYZsq{}}\PY{p}{]}\PY{p}{)}
        \PY{c+c1}{\PYZsh{} P(having car | your delinquit)  =  .305}
        \PY{n}{delinquit\PYZus{}with\PYZus{}car} \PY{o}{=} \PY{n}{has\PYZus{}car\PYZus{}delinquit} \PY{o}{/} \PY{n+nb}{len}\PY{p}{(}\PY{n}{target\PYZus{}is\PYZus{}one}\PY{p}{)}
\end{Verbatim}


    \begin{Verbatim}[commandchars=\\\{\}]
{\color{incolor}In [{\color{incolor}7}]:} \PY{n}{fig}\PY{p}{,} \PY{n}{ax} \PY{o}{=} \PY{n}{plt}\PY{o}{.}\PY{n}{subplots}\PY{p}{(}\PY{l+m+mi}{1}\PY{p}{,} \PY{l+m+mi}{1}\PY{p}{)}
        \PY{n}{ax}\PY{o}{.}\PY{n}{set\PYZus{}xlim}\PY{p}{(}\PY{o}{\PYZhy{}}\PY{l+m+mf}{0.5}\PY{p}{,} \PY{l+m+mf}{1.5}\PY{p}{)}
        \PY{n}{ax}\PY{o}{.}\PY{n}{set\PYZus{}ylim}\PY{p}{(}\PY{l+m+mi}{0}\PY{p}{,} \PY{l+m+mi}{1}\PY{p}{)}
        \PY{l+s+sd}{\PYZdq{}\PYZdq{}\PYZdq{}creates bars for delinquint with no car\PYZdq{}\PYZdq{}\PYZdq{}}
        \PY{n}{ax}\PY{o}{.}\PY{n}{vlines}\PY{p}{(}\PY{l+m+mi}{0}\PY{p}{,} \PY{l+m+mi}{0}\PY{p}{,} \PY{n}{delinquit\PYZus{}carless}\PY{p}{,} \PY{n}{colors}\PY{o}{=}\PY{l+s+s1}{\PYZsq{}}\PY{l+s+s1}{b}\PY{l+s+s1}{\PYZsq{}}\PY{p}{,} \PY{n}{lw}\PY{o}{=}\PY{l+m+mi}{100}\PY{p}{,} \PY{n}{alpha}\PY{o}{=}\PY{l+m+mf}{0.5}\PY{p}{)}
        \PY{l+s+sd}{\PYZdq{}\PYZdq{}\PYZdq{}creates bars for delinquent with car\PYZdq{}\PYZdq{}\PYZdq{}}
        \PY{n}{ax}\PY{o}{.}\PY{n}{vlines}\PY{p}{(}\PY{l+m+mi}{1}\PY{p}{,} \PY{l+m+mi}{0}\PY{p}{,} \PY{n}{delinquit\PYZus{}with\PYZus{}car}\PY{p}{,} \PY{n}{colors}\PY{o}{=}\PY{l+s+s1}{\PYZsq{}}\PY{l+s+s1}{b}\PY{l+s+s1}{\PYZsq{}}\PY{p}{,} \PY{n}{lw}\PY{o}{=}\PY{l+m+mi}{100}\PY{p}{,} \PY{n}{alpha}\PY{o}{=}\PY{l+m+mf}{0.5}\PY{p}{)}
        \PY{l+s+sd}{\PYZdq{}\PYZdq{}\PYZdq{}allows only 0 x values for no car and 1 x value for owning a car\PYZdq{}\PYZdq{}\PYZdq{}}
        \PY{n}{ax}\PY{o}{.}\PY{n}{set\PYZus{}xticks}\PY{p}{(}\PY{p}{[}\PY{l+m+mi}{0}\PY{p}{,}\PY{l+m+mi}{1}\PY{p}{]}\PY{p}{)}
        \PY{l+s+sd}{\PYZdq{}\PYZdq{}\PYZdq{}get the x\PYZus{}tick labels\PYZdq{}\PYZdq{}\PYZdq{}}
        \PY{n}{ticks}\PY{o}{=}\PY{n}{ax}\PY{o}{.}\PY{n}{get\PYZus{}xticks}\PY{p}{(}\PY{p}{)}\PY{o}{.}\PY{n}{tolist}\PY{p}{(}\PY{p}{)}
        \PY{l+s+sd}{\PYZdq{}\PYZdq{}\PYZdq{}change first tick to no car\PYZdq{}\PYZdq{}\PYZdq{}}
        \PY{n}{ticks}\PY{p}{[}\PY{l+m+mi}{0}\PY{p}{]} \PY{o}{=} \PY{l+s+s1}{\PYZsq{}}\PY{l+s+s1}{no car}\PY{l+s+s1}{\PYZsq{}}
        \PY{l+s+sd}{\PYZdq{}\PYZdq{}\PYZdq{}change second tick labels to has car\PYZdq{}\PYZdq{}\PYZdq{}}
        \PY{n}{ticks}\PY{p}{[}\PY{l+m+mi}{1}\PY{p}{]} \PY{o}{=} \PY{l+s+s1}{\PYZsq{}}\PY{l+s+s1}{has car}\PY{l+s+s1}{\PYZsq{}}
        \PY{l+s+sd}{\PYZdq{}\PYZdq{}\PYZdq{}set the newly appointed key/value tick pair\PYZdq{}\PYZdq{}\PYZdq{}}
        \PY{n}{ax}\PY{o}{.}\PY{n}{set\PYZus{}xticklabels}\PY{p}{(}\PY{n}{ticks}\PY{p}{)}
        \PY{n}{ax}\PY{o}{.}\PY{n}{annotate}\PY{p}{(}\PY{l+s+s1}{\PYZsq{}}\PY{l+s+s1}{P(not having car / having car | delinquit)}\PY{l+s+s1}{\PYZsq{}}\PY{p}{,} \PY{n}{xy}\PY{o}{=}\PY{p}{[}\PY{o}{\PYZhy{}}\PY{l+m+mf}{0.1}\PY{p}{,}\PY{l+m+mf}{0.8}\PY{p}{]}\PY{p}{)}
        \PY{n+nb}{print}\PY{p}{(}\PY{l+s+s1}{\PYZsq{}}\PY{l+s+s1}{probability of not having a car given you are delinquint: }\PY{l+s+s1}{\PYZsq{}}\PY{p}{,} \PY{n}{delinquit\PYZus{}carless} \PY{o}{*} \PY{l+m+mi}{100}\PY{p}{,} \PY{l+s+s1}{\PYZsq{}}\PY{l+s+s1}{\PYZpc{}}\PY{l+s+s1}{\PYZsq{}}\PY{p}{)}
        \PY{n+nb}{print}\PY{p}{(}\PY{l+s+s1}{\PYZsq{}}\PY{l+s+s1}{probability of having a car given you are delinquint: }\PY{l+s+s1}{\PYZsq{}}\PY{p}{,} \PY{n}{delinquit\PYZus{}with\PYZus{}car} \PY{o}{*} \PY{l+m+mi}{100}\PY{p}{,} \PY{l+s+s1}{\PYZsq{}}\PY{l+s+s1}{\PYZpc{}}\PY{l+s+s1}{\PYZsq{}}\PY{p}{)}
\end{Verbatim}


    \begin{Verbatim}[commandchars=\\\{\}]
probability of not having a car given you are delinquint:  69.48237663645519 \%
probability of having a car given you are delinquint:  30.517623363544814 \%

    \end{Verbatim}

    \begin{center}
    \adjustimage{max size={0.9\linewidth}{0.9\paperheight}}{output_7_1.png}
    \end{center}
    { \hspace*{\fill} \\}
    
    This is a huge differnece! this essintially tells us that in the world
of delinquint loan payers, 69.5\% of those individuals will not have a
car, while only 31\% will have a car!

    \begin{Verbatim}[commandchars=\\\{\}]
{\color{incolor}In [{\color{incolor}8}]:} \PY{n}{cash\PYZus{}loans} \PY{o}{=} \PY{n+nb}{len}\PY{p}{(}\PY{n}{target\PYZus{}is\PYZus{}zero}\PY{p}{[}\PY{n}{target\PYZus{}is\PYZus{}zero}\PY{p}{[}\PY{l+s+s1}{\PYZsq{}}\PY{l+s+s1}{NAME\PYZus{}CONTRACT\PYZus{}TYPE}\PY{l+s+s1}{\PYZsq{}}\PY{p}{]} \PY{o}{==} \PY{l+s+s1}{\PYZsq{}}\PY{l+s+s1}{Cash loans}\PY{l+s+s1}{\PYZsq{}}\PY{p}{]}\PY{p}{)}
        \PY{n}{cash\PYZus{}loans\PYZus{}defaulted} \PY{o}{=} \PY{n+nb}{len}\PY{p}{(}\PY{n}{target\PYZus{}is\PYZus{}one}\PY{p}{[}\PY{n}{target\PYZus{}is\PYZus{}one}\PY{p}{[}\PY{l+s+s1}{\PYZsq{}}\PY{l+s+s1}{NAME\PYZus{}CONTRACT\PYZus{}TYPE}\PY{l+s+s1}{\PYZsq{}}\PY{p}{]} \PY{o}{==} \PY{l+s+s1}{\PYZsq{}}\PY{l+s+s1}{Cash loans}\PY{l+s+s1}{\PYZsq{}}\PY{p}{]}\PY{p}{)}
        \PY{c+c1}{\PYZsh{}P(defaulting | cash loan)}
        \PY{n}{probability\PYZus{}cash\PYZus{}loan} \PY{o}{=} \PY{n}{cash\PYZus{}loans\PYZus{}defaulted}\PY{o}{/}\PY{p}{(}\PY{n}{cash\PYZus{}loans} \PY{o}{+} \PY{n}{cash\PYZus{}loans\PYZus{}defaulted}\PY{p}{)}
        
        
        \PY{n}{revolve\PYZus{}loans} \PY{o}{=} \PY{n+nb}{len}\PY{p}{(}\PY{n}{target\PYZus{}is\PYZus{}zero}\PY{p}{[}\PY{n}{target\PYZus{}is\PYZus{}zero}\PY{p}{[}\PY{l+s+s1}{\PYZsq{}}\PY{l+s+s1}{NAME\PYZus{}CONTRACT\PYZus{}TYPE}\PY{l+s+s1}{\PYZsq{}}\PY{p}{]} \PY{o}{==} \PY{l+s+s1}{\PYZsq{}}\PY{l+s+s1}{Revolving loans}\PY{l+s+s1}{\PYZsq{}}\PY{p}{]}\PY{p}{)}
        \PY{n}{revolve\PYZus{}loans\PYZus{}defaulted} \PY{o}{=} \PY{n+nb}{len}\PY{p}{(}\PY{n}{target\PYZus{}is\PYZus{}one}\PY{p}{[}\PY{n}{target\PYZus{}is\PYZus{}one}\PY{p}{[}\PY{l+s+s1}{\PYZsq{}}\PY{l+s+s1}{NAME\PYZus{}CONTRACT\PYZus{}TYPE}\PY{l+s+s1}{\PYZsq{}}\PY{p}{]} \PY{o}{==} \PY{l+s+s1}{\PYZsq{}}\PY{l+s+s1}{Revolving loans}\PY{l+s+s1}{\PYZsq{}}\PY{p}{]}\PY{p}{)}
        \PY{c+c1}{\PYZsh{}P(defaulting | revolving loan)}
        \PY{n}{probability\PYZus{}revolve\PYZus{}loan} \PY{o}{=} \PY{n}{revolve\PYZus{}loans\PYZus{}defaulted}\PY{o}{/}\PY{p}{(}\PY{n}{revolve\PYZus{}loans} \PY{o}{+} \PY{n}{revolve\PYZus{}loans\PYZus{}defaulted}\PY{p}{)}
        
        \PY{n}{fig} \PY{o}{=} \PY{n}{plt}\PY{o}{.}\PY{n}{figure}\PY{p}{(}\PY{n}{figsize}\PY{o}{=}\PY{p}{(}\PY{l+m+mi}{6}\PY{p}{,} \PY{l+m+mi}{6}\PY{p}{)}\PY{p}{)}
        \PY{n}{loans} \PY{o}{=} \PY{n}{fig}\PY{o}{.}\PY{n}{add\PYZus{}subplot}\PY{p}{(}\PY{l+m+mi}{111}\PY{p}{)}
        \PY{n}{loans}\PY{o}{.}\PY{n}{set\PYZus{}ylim}\PY{p}{(}\PY{l+m+mi}{0}\PY{p}{,} \PY{l+m+mi}{1}\PY{p}{)}
        \PY{n}{loans}\PY{o}{.}\PY{n}{set\PYZus{}yticks}\PY{p}{(}\PY{p}{[}\PY{l+m+mf}{0.0}\PY{p}{,} \PY{l+m+mf}{0.1}\PY{p}{,} \PY{l+m+mf}{0.2}\PY{p}{,} \PY{l+m+mf}{0.3}\PY{p}{,} \PY{l+m+mf}{0.4}\PY{p}{,} \PY{l+m+mf}{0.5}\PY{p}{,} \PY{l+m+mf}{0.6}\PY{p}{,} \PY{l+m+mf}{0.7}\PY{p}{,} \PY{l+m+mf}{0.8}\PY{p}{,} \PY{l+m+mf}{0.9}\PY{p}{,} \PY{l+m+mf}{1.0}\PY{p}{]}\PY{p}{)}
        \PY{n}{loans}\PY{o}{.}\PY{n}{annotate}\PY{p}{(}\PY{l+s+s1}{\PYZsq{}}\PY{l+s+s1}{ P(defaulting cash loan | cash loan) }\PY{l+s+se}{\PYZbs{}n}\PY{l+s+s1}{ P(defaulting revolving loan | revolving loan)}\PY{l+s+s1}{\PYZsq{}}\PY{p}{,} \PY{n}{xy}\PY{o}{=}\PY{p}{[}\PY{o}{\PYZhy{}}\PY{l+m+mf}{0.1}\PY{p}{,}\PY{l+m+mf}{0.7}\PY{p}{]}\PY{p}{)}
        
        \PY{n}{loans} \PY{o}{=} \PY{n}{plt}\PY{o}{.}\PY{n}{bar}\PY{p}{(} \PY{p}{[}\PY{l+m+mi}{0}\PY{p}{,} \PY{l+m+mi}{1}\PY{p}{]}\PY{p}{,}\PY{p}{[}\PY{n}{probability\PYZus{}cash\PYZus{}loan}\PY{p}{,} \PY{n}{probability\PYZus{}revolve\PYZus{}loan}\PY{p}{]}\PY{p}{,} 
                        \PY{n}{tick\PYZus{}label} \PY{o}{=} \PY{p}{[}\PY{l+s+s1}{\PYZsq{}}\PY{l+s+s1}{cash loan }\PY{l+s+se}{\PYZbs{}n}\PY{l+s+s1}{ }\PY{l+s+si}{\PYZob{}\PYZcb{}}\PY{l+s+s1}{\PYZsq{}}\PY{o}{.}\PY{n}{format}\PY{p}{(}\PY{n+nb}{round}\PY{p}{(}\PY{n}{probability\PYZus{}cash\PYZus{}loan}\PY{p}{,} \PY{l+m+mi}{3}\PY{p}{)}\PY{p}{)} \PY{p}{,} \PY{l+s+s1}{\PYZsq{}}\PY{l+s+s1}{revolve loan }\PY{l+s+se}{\PYZbs{}n}\PY{l+s+s1}{ }\PY{l+s+si}{\PYZob{}\PYZcb{}}\PY{l+s+s1}{\PYZsq{}}\PY{o}{.}\PY{n}{format}\PY{p}{(}\PY{n+nb}{round}\PY{p}{(}\PY{n}{probability\PYZus{}revolve\PYZus{}loan}\PY{p}{,} \PY{l+m+mi}{3}\PY{p}{)}\PY{p}{)} \PY{p}{]}\PY{p}{)}
        
        \PY{n+nb}{print}\PY{p}{(}\PY{l+s+s2}{\PYZdq{}}\PY{l+s+s2}{probability of defaulting cash loan given you took out a cash loan is: }\PY{l+s+s2}{\PYZdq{}}\PY{p}{,} \PY{n}{probability\PYZus{}cash\PYZus{}loan} \PY{o}{*} \PY{l+m+mi}{100}\PY{p}{,} \PY{l+s+s2}{\PYZdq{}}\PY{l+s+s2}{\PYZpc{}}\PY{l+s+s2}{\PYZdq{}}\PY{p}{)}
        \PY{n+nb}{print}\PY{p}{(}\PY{l+s+s2}{\PYZdq{}}\PY{l+s+s2}{probability of defaulting revolving loan given you took out a revolving loan is: }\PY{l+s+s2}{\PYZdq{}}\PY{p}{,} \PY{n}{probability\PYZus{}revolve\PYZus{}loan} \PY{o}{*} \PY{l+m+mi}{100}\PY{p}{,} \PY{l+s+s2}{\PYZdq{}}\PY{l+s+s2}{\PYZpc{}}\PY{l+s+s2}{\PYZdq{}}\PY{p}{)}
\end{Verbatim}


    \begin{Verbatim}[commandchars=\\\{\}]
probability of defaulting cash loan given you took out a cash loan is:  8.345912763449208 \%
probability of defaulting revolving loan given you took out a revolving loan is:  5.478329177909082 \%

    \end{Verbatim}

    \begin{center}
    \adjustimage{max size={0.9\linewidth}{0.9\paperheight}}{output_9_1.png}
    \end{center}
    { \hspace*{\fill} \\}
    
    This difference in percentages was expected. Taking out a full cash loan
as oppsed to a loan where you are receving the money periodically is
going to be an increase in risk for the lender.

    \begin{Verbatim}[commandchars=\\\{\}]
{\color{incolor}In [{\color{incolor}9}]:} \PY{n}{owns\PYZus{}reality} \PY{o}{=} \PY{n+nb}{len}\PY{p}{(}\PY{n}{target\PYZus{}is\PYZus{}zero}\PY{p}{[}\PY{n}{target\PYZus{}is\PYZus{}zero}\PY{p}{[}\PY{l+s+s1}{\PYZsq{}}\PY{l+s+s1}{FLAG\PYZus{}OWN\PYZus{}REALTY}\PY{l+s+s1}{\PYZsq{}}\PY{p}{]} \PY{o}{==} \PY{l+s+s1}{\PYZsq{}}\PY{l+s+s1}{Y}\PY{l+s+s1}{\PYZsq{}}\PY{p}{]}\PY{p}{)}
        \PY{n}{owns\PYZus{}reality\PYZus{}delinquint} \PY{o}{=} \PY{n+nb}{len}\PY{p}{(}\PY{n}{target\PYZus{}is\PYZus{}one}\PY{p}{[}\PY{n}{target\PYZus{}is\PYZus{}one}\PY{p}{[}\PY{l+s+s1}{\PYZsq{}}\PY{l+s+s1}{FLAG\PYZus{}OWN\PYZus{}REALTY}\PY{l+s+s1}{\PYZsq{}}\PY{p}{]} \PY{o}{==} \PY{l+s+s1}{\PYZsq{}}\PY{l+s+s1}{Y}\PY{l+s+s1}{\PYZsq{}}\PY{p}{]}\PY{p}{)}
        \PY{c+c1}{\PYZsh{}P(delinquit | own reality)}
        \PY{n}{delinquint\PYZus{}owners} \PY{o}{=} \PY{n}{owns\PYZus{}reality\PYZus{}delinquint} \PY{o}{/} \PY{p}{(}\PY{n}{owns\PYZus{}reality\PYZus{}delinquint} \PY{o}{+} \PY{n}{owns\PYZus{}reality}\PY{p}{)}
        
        \PY{n}{not\PYZus{}own\PYZus{}reality} \PY{o}{=} \PY{n+nb}{len}\PY{p}{(}\PY{n}{target\PYZus{}is\PYZus{}zero}\PY{p}{[}\PY{n}{target\PYZus{}is\PYZus{}zero}\PY{p}{[}\PY{l+s+s1}{\PYZsq{}}\PY{l+s+s1}{FLAG\PYZus{}OWN\PYZus{}REALTY}\PY{l+s+s1}{\PYZsq{}}\PY{p}{]} \PY{o}{==} \PY{l+s+s1}{\PYZsq{}}\PY{l+s+s1}{N}\PY{l+s+s1}{\PYZsq{}}\PY{p}{]}\PY{p}{)}
        \PY{n}{not\PYZus{}own\PYZus{}reality\PYZus{}delinquit} \PY{o}{=} \PY{n+nb}{len}\PY{p}{(}\PY{n}{target\PYZus{}is\PYZus{}one}\PY{p}{[}\PY{n}{target\PYZus{}is\PYZus{}one}\PY{p}{[}\PY{l+s+s1}{\PYZsq{}}\PY{l+s+s1}{FLAG\PYZus{}OWN\PYZus{}REALTY}\PY{l+s+s1}{\PYZsq{}}\PY{p}{]} \PY{o}{==} \PY{l+s+s1}{\PYZsq{}}\PY{l+s+s1}{N}\PY{l+s+s1}{\PYZsq{}}\PY{p}{]}\PY{p}{)}
        \PY{c+c1}{\PYZsh{}P(delinquit | dont own reality)}
        \PY{n}{not\PYZus{}delinquit\PYZus{}owners} \PY{o}{=} \PY{n}{not\PYZus{}own\PYZus{}reality\PYZus{}delinquit} \PY{o}{/} \PY{p}{(}\PY{n}{not\PYZus{}own\PYZus{}reality\PYZus{}delinquit} \PY{o}{+} \PY{n}{not\PYZus{}own\PYZus{}reality}\PY{p}{)}
        
        \PY{n+nb}{print}\PY{p}{(}\PY{l+s+s2}{\PYZdq{}}\PY{l+s+s2}{probability of being delinquint if you own reality: }\PY{l+s+s2}{\PYZdq{}}\PY{p}{,} \PY{n}{delinquint\PYZus{}owners} \PY{o}{*} \PY{l+m+mi}{100}\PY{p}{,} \PY{l+s+s2}{\PYZdq{}}\PY{l+s+s2}{\PYZpc{}}\PY{l+s+s2}{\PYZdq{}}\PY{p}{)}
        \PY{n+nb}{print}\PY{p}{(}\PY{l+s+s2}{\PYZdq{}}\PY{l+s+s2}{probability of being delinquint if you do not own reality: }\PY{l+s+s2}{\PYZdq{}}\PY{p}{,} \PY{n}{not\PYZus{}delinquit\PYZus{}owners} \PY{o}{*} \PY{l+m+mi}{100}\PY{p}{,} \PY{l+s+s2}{\PYZdq{}}\PY{l+s+s2}{\PYZpc{}}\PY{l+s+s2}{\PYZdq{}}\PY{p}{)}
        \PY{n}{fig} \PY{o}{=} \PY{n}{plt}\PY{o}{.}\PY{n}{figure}\PY{p}{(}\PY{n}{figsize}\PY{o}{=}\PY{p}{(}\PY{l+m+mi}{5}\PY{p}{,} \PY{l+m+mi}{5}\PY{p}{)}\PY{p}{)}
        \PY{n}{loans} \PY{o}{=} \PY{n}{fig}\PY{o}{.}\PY{n}{add\PYZus{}subplot}\PY{p}{(}\PY{l+m+mi}{111}\PY{p}{)}
        \PY{n}{loans}\PY{o}{.}\PY{n}{set\PYZus{}ylim}\PY{p}{(}\PY{l+m+mi}{0}\PY{p}{,} \PY{l+m+mi}{1}\PY{p}{)}
        \PY{n}{loans}\PY{o}{.}\PY{n}{set\PYZus{}yticks}\PY{p}{(}\PY{p}{[}\PY{l+m+mf}{0.0}\PY{p}{,} \PY{l+m+mf}{0.1}\PY{p}{,} \PY{l+m+mf}{0.2}\PY{p}{,} \PY{l+m+mf}{0.3}\PY{p}{,} \PY{l+m+mf}{0.4}\PY{p}{,} \PY{l+m+mf}{0.5}\PY{p}{,} \PY{l+m+mf}{0.6}\PY{p}{,} \PY{l+m+mf}{0.7}\PY{p}{,} \PY{l+m+mf}{0.8}\PY{p}{,} \PY{l+m+mf}{0.9}\PY{p}{,} \PY{l+m+mf}{1.0}\PY{p}{]}\PY{p}{)}
        \PY{n}{loans}\PY{o}{.}\PY{n}{annotate}\PY{p}{(}\PY{l+s+s1}{\PYZsq{}}\PY{l+s+s1}{ P(delinquit | own reality) }\PY{l+s+se}{\PYZbs{}n}\PY{l+s+s1}{ P(delinquit | dont own reality)}\PY{l+s+s1}{\PYZsq{}}\PY{p}{,} \PY{n}{xy}\PY{o}{=}\PY{p}{[}\PY{o}{\PYZhy{}}\PY{l+m+mf}{0.1}\PY{p}{,}\PY{l+m+mf}{0.7}\PY{p}{]}\PY{p}{)}
        
        \PY{n}{loans} \PY{o}{=} \PY{n}{plt}\PY{o}{.}\PY{n}{bar}\PY{p}{(} \PY{p}{[}\PY{l+m+mi}{0}\PY{p}{,} \PY{l+m+mi}{1}\PY{p}{]}\PY{p}{,}\PY{p}{[}\PY{n}{delinquint\PYZus{}owners}\PY{p}{,} \PY{n}{not\PYZus{}delinquit\PYZus{}owners}\PY{p}{]}\PY{p}{,} 
                        \PY{n}{tick\PYZus{}label} \PY{o}{=} \PY{p}{[}\PY{l+s+s1}{\PYZsq{}}\PY{l+s+s1}{owns reality }\PY{l+s+se}{\PYZbs{}n}\PY{l+s+s1}{ }\PY{l+s+si}{\PYZob{}\PYZcb{}}\PY{l+s+s1}{\PYZsq{}}\PY{o}{.}\PY{n}{format}\PY{p}{(}\PY{n+nb}{round}\PY{p}{(}\PY{n}{delinquint\PYZus{}owners}\PY{p}{,} \PY{l+m+mi}{4}\PY{p}{)}\PY{p}{)} \PY{p}{,} \PY{l+s+s2}{\PYZdq{}}\PY{l+s+s2}{doesn}\PY{l+s+s2}{\PYZsq{}}\PY{l+s+s2}{t own reality, }\PY{l+s+se}{\PYZbs{}n}\PY{l+s+s2}{ }\PY{l+s+si}{\PYZob{}\PYZcb{}}\PY{l+s+s2}{\PYZdq{}}\PY{o}{.}\PY{n}{format}\PY{p}{(}\PY{n+nb}{round}\PY{p}{(}\PY{n}{not\PYZus{}delinquit\PYZus{}owners}\PY{p}{,} \PY{l+m+mi}{4}\PY{p}{)}\PY{p}{)} \PY{p}{]}\PY{p}{)}
\end{Verbatim}


    \begin{Verbatim}[commandchars=\\\{\}]
probability of being delinquint if you own reality:  7.961577407740775 \%
probability of being delinquint if you do not own reality:  8.324929139375152 \%

    \end{Verbatim}

    \begin{center}
    \adjustimage{max size={0.9\linewidth}{0.9\paperheight}}{output_11_1.png}
    \end{center}
    { \hspace*{\fill} \\}
    
    There is only a 0.63\% difference between home owners and non home
owners in whether or not they beceome delinquint in payments or not.

    \begin{Verbatim}[commandchars=\\\{\}]
{\color{incolor}In [{\color{incolor}10}]:} \PY{n}{yearly\PYZus{}credit} \PY{o}{=} \PY{n}{train}\PY{p}{[}\PY{l+s+s1}{\PYZsq{}}\PY{l+s+s1}{AMT\PYZus{}REQ\PYZus{}CREDIT\PYZus{}BUREAU\PYZus{}YEAR}\PY{l+s+s1}{\PYZsq{}}\PY{p}{]}
         \PY{l+s+sd}{\PYZdq{}\PYZdq{}\PYZdq{}not delinquint list\PYZdq{}\PYZdq{}\PYZdq{}}
         \PY{n}{yearly\PYZus{}credit\PYZus{}zero} \PY{o}{=} \PY{n}{target\PYZus{}is\PYZus{}zero}\PY{p}{[}\PY{l+s+s1}{\PYZsq{}}\PY{l+s+s1}{AMT\PYZus{}REQ\PYZus{}CREDIT\PYZus{}BUREAU\PYZus{}YEAR}\PY{l+s+s1}{\PYZsq{}}\PY{p}{]}
         \PY{l+s+sd}{\PYZdq{}\PYZdq{}\PYZdq{}delinquint list\PYZdq{}\PYZdq{}\PYZdq{}}
         \PY{n}{yearly\PYZus{}credit\PYZus{}one} \PY{o}{=} \PY{n}{target\PYZus{}is\PYZus{}one}\PY{p}{[}\PY{l+s+s1}{\PYZsq{}}\PY{l+s+s1}{AMT\PYZus{}REQ\PYZus{}CREDIT\PYZus{}BUREAU\PYZus{}YEAR}\PY{l+s+s1}{\PYZsq{}}\PY{p}{]}
         
         
         \PY{l+s+sd}{\PYZdq{}\PYZdq{}\PYZdq{}theese nan probabilities are the same for all of the credit credit inquiries\PYZdq{}\PYZdq{}\PYZdq{}}
         \PY{c+c1}{\PYZsh{}P(value is nan | individual defaulted)}
         \PY{n}{yearly\PYZus{}nan\PYZus{}default} \PY{o}{=} \PY{n+nb}{len}\PY{p}{(}\PY{p}{[}\PY{n}{i} \PY{k}{for} \PY{n}{i} \PY{o+ow}{in} \PY{n}{yearly\PYZus{}credit\PYZus{}one} \PY{k}{if} \PY{n}{np}\PY{o}{.}\PY{n}{isnan}\PY{p}{(}\PY{n}{i}\PY{p}{)} \PY{o}{==} \PY{k+kc}{True}\PY{p}{]}\PY{p}{)} \PY{o}{/} \PY{n+nb}{len}\PY{p}{(}\PY{n}{yearly\PYZus{}credit\PYZus{}one}\PY{p}{)}
         \PY{c+c1}{\PYZsh{}P(value is nan | individual did not default)}
         \PY{n}{yearly\PYZus{}nan\PYZus{}no\PYZus{}default} \PY{o}{=} \PY{n+nb}{len}\PY{p}{(}\PY{p}{[}\PY{n}{i} \PY{k}{for} \PY{n}{i} \PY{o+ow}{in} \PY{n}{yearly\PYZus{}credit\PYZus{}zero} \PY{k}{if} \PY{n}{np}\PY{o}{.}\PY{n}{isnan}\PY{p}{(}\PY{n}{i}\PY{p}{)} \PY{o}{==} \PY{k+kc}{True}\PY{p}{]}\PY{p}{)} \PY{o}{/} \PY{n+nb}{len}\PY{p}{(}\PY{n}{yearly\PYZus{}credit\PYZus{}zero}\PY{p}{)}
         
         
         \PY{l+s+sd}{\PYZdq{}\PYZdq{}\PYZdq{}not delinquint list\PYZdq{}\PYZdq{}\PYZdq{}}
         \PY{n}{quarter\PYZus{}credit\PYZus{}zero} \PY{o}{=} \PY{n}{target\PYZus{}is\PYZus{}zero}\PY{p}{[}\PY{l+s+s1}{\PYZsq{}}\PY{l+s+s1}{AMT\PYZus{}REQ\PYZus{}CREDIT\PYZus{}BUREAU\PYZus{}QRT}\PY{l+s+s1}{\PYZsq{}}\PY{p}{]}
         \PY{l+s+sd}{\PYZdq{}\PYZdq{}\PYZdq{}delinquint list\PYZdq{}\PYZdq{}\PYZdq{}}
         \PY{n}{quarter\PYZus{}credit\PYZus{}one} \PY{o}{=} \PY{n}{target\PYZus{}is\PYZus{}one}\PY{p}{[}\PY{l+s+s1}{\PYZsq{}}\PY{l+s+s1}{AMT\PYZus{}REQ\PYZus{}CREDIT\PYZus{}BUREAU\PYZus{}QRT}\PY{l+s+s1}{\PYZsq{}}\PY{p}{]}
         
         
         \PY{l+s+sd}{\PYZdq{}\PYZdq{}\PYZdq{}not delinquint list\PYZdq{}\PYZdq{}\PYZdq{}}
         \PY{n}{monthly\PYZus{}credit\PYZus{}zero} \PY{o}{=} \PY{n}{target\PYZus{}is\PYZus{}zero}\PY{p}{[}\PY{l+s+s1}{\PYZsq{}}\PY{l+s+s1}{AMT\PYZus{}REQ\PYZus{}CREDIT\PYZus{}BUREAU\PYZus{}MON}\PY{l+s+s1}{\PYZsq{}}\PY{p}{]}
         \PY{l+s+sd}{\PYZdq{}\PYZdq{}\PYZdq{}delinquint list\PYZdq{}\PYZdq{}\PYZdq{}}
         \PY{n}{monthly\PYZus{}credit\PYZus{}one} \PY{o}{=} \PY{n}{target\PYZus{}is\PYZus{}one}\PY{p}{[}\PY{l+s+s1}{\PYZsq{}}\PY{l+s+s1}{AMT\PYZus{}REQ\PYZus{}CREDIT\PYZus{}BUREAU\PYZus{}MON}\PY{l+s+s1}{\PYZsq{}}\PY{p}{]}
         
         \PY{l+s+sd}{\PYZdq{}\PYZdq{}\PYZdq{}not delinquint list\PYZdq{}\PYZdq{}\PYZdq{}}
         \PY{n}{weekly\PYZus{}credit\PYZus{}zero} \PY{o}{=} \PY{n}{target\PYZus{}is\PYZus{}zero}\PY{p}{[}\PY{l+s+s1}{\PYZsq{}}\PY{l+s+s1}{AMT\PYZus{}REQ\PYZus{}CREDIT\PYZus{}BUREAU\PYZus{}WEEK}\PY{l+s+s1}{\PYZsq{}}\PY{p}{]}
         \PY{l+s+sd}{\PYZdq{}\PYZdq{}\PYZdq{}delinquint list\PYZdq{}\PYZdq{}\PYZdq{}}
         \PY{n}{weekly\PYZus{}credit\PYZus{}one} \PY{o}{=} \PY{n}{target\PYZus{}is\PYZus{}one}\PY{p}{[}\PY{l+s+s1}{\PYZsq{}}\PY{l+s+s1}{AMT\PYZus{}REQ\PYZus{}CREDIT\PYZus{}BUREAU\PYZus{}WEEK}\PY{l+s+s1}{\PYZsq{}}\PY{p}{]}
         
         \PY{l+s+sd}{\PYZdq{}\PYZdq{}\PYZdq{}not delinquint list\PYZdq{}\PYZdq{}\PYZdq{}}
         \PY{n}{daily\PYZus{}credit\PYZus{}zero} \PY{o}{=} \PY{n}{target\PYZus{}is\PYZus{}zero}\PY{p}{[}\PY{l+s+s1}{\PYZsq{}}\PY{l+s+s1}{AMT\PYZus{}REQ\PYZus{}CREDIT\PYZus{}BUREAU\PYZus{}DAY}\PY{l+s+s1}{\PYZsq{}}\PY{p}{]}
         \PY{l+s+sd}{\PYZdq{}\PYZdq{}\PYZdq{}delinquint list\PYZdq{}\PYZdq{}\PYZdq{}}
         \PY{n}{daily\PYZus{}credit\PYZus{}one} \PY{o}{=} \PY{n}{target\PYZus{}is\PYZus{}one}\PY{p}{[}\PY{l+s+s1}{\PYZsq{}}\PY{l+s+s1}{AMT\PYZus{}REQ\PYZus{}CREDIT\PYZus{}BUREAU\PYZus{}DAY}\PY{l+s+s1}{\PYZsq{}}\PY{p}{]}
         
         
         \PY{l+s+sd}{\PYZdq{}\PYZdq{}\PYZdq{}not delinquint list\PYZdq{}\PYZdq{}\PYZdq{}}
         \PY{n}{hourly\PYZus{}credit\PYZus{}zero} \PY{o}{=} \PY{n}{target\PYZus{}is\PYZus{}zero}\PY{p}{[}\PY{l+s+s1}{\PYZsq{}}\PY{l+s+s1}{AMT\PYZus{}REQ\PYZus{}CREDIT\PYZus{}BUREAU\PYZus{}HOUR}\PY{l+s+s1}{\PYZsq{}}\PY{p}{]}
         \PY{l+s+sd}{\PYZdq{}\PYZdq{}\PYZdq{}delinquint list\PYZdq{}\PYZdq{}\PYZdq{}}
         \PY{n}{hourly\PYZus{}credit\PYZus{}one} \PY{o}{=} \PY{n}{target\PYZus{}is\PYZus{}one}\PY{p}{[}\PY{l+s+s1}{\PYZsq{}}\PY{l+s+s1}{AMT\PYZus{}REQ\PYZus{}CREDIT\PYZus{}BUREAU\PYZus{}HOUR}\PY{l+s+s1}{\PYZsq{}}\PY{p}{]}
         
         
         \PY{n+nb}{print}\PY{p}{(}\PY{l+s+s1}{\PYZsq{}}\PY{l+s+s1}{year not delinquint}\PY{l+s+s1}{\PYZsq{}}\PY{p}{,} \PY{n}{yearly\PYZus{}credit\PYZus{}zero}\PY{o}{.}\PY{n}{mean}\PY{p}{(}\PY{p}{)}\PY{p}{)}
         \PY{n+nb}{print}\PY{p}{(}\PY{l+s+s1}{\PYZsq{}}\PY{l+s+s1}{year delinquint}\PY{l+s+s1}{\PYZsq{}}\PY{p}{,} \PY{n}{yearly\PYZus{}credit\PYZus{}one}\PY{o}{.}\PY{n}{mean}\PY{p}{(}\PY{p}{)}\PY{p}{)}
         
         \PY{n+nb}{print}\PY{p}{(}\PY{l+s+s1}{\PYZsq{}}\PY{l+s+s1}{quarter not delinquint}\PY{l+s+s1}{\PYZsq{}}\PY{p}{,} \PY{n}{quarter\PYZus{}credit\PYZus{}zero}\PY{o}{.}\PY{n}{mean}\PY{p}{(}\PY{p}{)}\PY{p}{)}
         \PY{n+nb}{print}\PY{p}{(}\PY{l+s+s1}{\PYZsq{}}\PY{l+s+s1}{quarter delinquint}\PY{l+s+s1}{\PYZsq{}}\PY{p}{,} \PY{n}{quarter\PYZus{}credit\PYZus{}one}\PY{o}{.}\PY{n}{mean}\PY{p}{(}\PY{p}{)}\PY{p}{)}
         
         \PY{n+nb}{print}\PY{p}{(}\PY{l+s+s1}{\PYZsq{}}\PY{l+s+s1}{month not delinquint}\PY{l+s+s1}{\PYZsq{}}\PY{p}{,} \PY{n}{monthly\PYZus{}credit\PYZus{}zero}\PY{o}{.}\PY{n}{mean}\PY{p}{(}\PY{p}{)}\PY{p}{)}
         \PY{n+nb}{print}\PY{p}{(}\PY{l+s+s1}{\PYZsq{}}\PY{l+s+s1}{month delinquint}\PY{l+s+s1}{\PYZsq{}}\PY{p}{,} \PY{n}{monthly\PYZus{}credit\PYZus{}one}\PY{o}{.}\PY{n}{mean}\PY{p}{(}\PY{p}{)}\PY{p}{)}
         
         \PY{n+nb}{print}\PY{p}{(}\PY{l+s+s1}{\PYZsq{}}\PY{l+s+s1}{weekly not delinquint}\PY{l+s+s1}{\PYZsq{}}\PY{p}{,} \PY{n}{weekly\PYZus{}credit\PYZus{}zero}\PY{o}{.}\PY{n}{mean}\PY{p}{(}\PY{p}{)}\PY{p}{)}
         \PY{n+nb}{print}\PY{p}{(}\PY{l+s+s1}{\PYZsq{}}\PY{l+s+s1}{weekly delinquint}\PY{l+s+s1}{\PYZsq{}}\PY{p}{,} \PY{n}{weekly\PYZus{}credit\PYZus{}one}\PY{o}{.}\PY{n}{mean}\PY{p}{(}\PY{p}{)}\PY{p}{)}
         
         \PY{n+nb}{print}\PY{p}{(}\PY{l+s+s1}{\PYZsq{}}\PY{l+s+s1}{daily not delinquint}\PY{l+s+s1}{\PYZsq{}}\PY{p}{,} \PY{n}{daily\PYZus{}credit\PYZus{}zero}\PY{o}{.}\PY{n}{mean}\PY{p}{(}\PY{p}{)}\PY{p}{)}
         \PY{n+nb}{print}\PY{p}{(}\PY{l+s+s1}{\PYZsq{}}\PY{l+s+s1}{daily delinquint}\PY{l+s+s1}{\PYZsq{}}\PY{p}{,} \PY{n}{daily\PYZus{}credit\PYZus{}one}\PY{o}{.}\PY{n}{mean}\PY{p}{(}\PY{p}{)}\PY{p}{)}    
         
         \PY{n+nb}{print}\PY{p}{(}\PY{l+s+s1}{\PYZsq{}}\PY{l+s+s1}{hourly not delinquint}\PY{l+s+s1}{\PYZsq{}}\PY{p}{,} \PY{n}{hourly\PYZus{}credit\PYZus{}zero}\PY{o}{.}\PY{n}{mean}\PY{p}{(}\PY{p}{)}\PY{p}{)}
         \PY{n+nb}{print}\PY{p}{(}\PY{l+s+s1}{\PYZsq{}}\PY{l+s+s1}{hourly delinquint}\PY{l+s+s1}{\PYZsq{}}\PY{p}{,} \PY{n}{hourly\PYZus{}credit\PYZus{}one}\PY{o}{.}\PY{n}{mean}\PY{p}{(}\PY{p}{)}\PY{p}{)}   
         
         \PY{n}{fig} \PY{o}{=} \PY{n}{plt}\PY{o}{.}\PY{n}{figure}\PY{p}{(}\PY{n}{figsize}\PY{o}{=}\PY{p}{(}\PY{l+m+mi}{10}\PY{p}{,} \PY{l+m+mi}{10}\PY{p}{)}\PY{p}{)}
         \PY{n}{credit} \PY{o}{=} \PY{n}{fig}\PY{o}{.}\PY{n}{add\PYZus{}subplot}\PY{p}{(}\PY{l+m+mi}{111}\PY{p}{)}
         
         \PY{n}{credit}\PY{o}{.}\PY{n}{set\PYZus{}xlim}\PY{p}{(}\PY{l+m+mf}{0.0}\PY{p}{,} \PY{l+m+mf}{7.0}\PY{p}{)}
         
         \PY{n}{credit}\PY{o}{.}\PY{n}{vlines}\PY{p}{(}\PY{l+m+mf}{1.0}\PY{p}{,} \PY{l+m+mi}{0}\PY{p}{,} \PY{n}{yearly\PYZus{}credit\PYZus{}zero}\PY{o}{.}\PY{n}{mean}\PY{p}{(}\PY{p}{)}\PY{p}{,} \PY{n}{colors}\PY{o}{=}\PY{l+s+s1}{\PYZsq{}}\PY{l+s+s1}{b}\PY{l+s+s1}{\PYZsq{}}\PY{p}{,} \PY{n}{lw}\PY{o}{=}\PY{l+m+mi}{50}\PY{p}{,} \PY{n}{alpha}\PY{o}{=}\PY{l+m+mi}{1}\PY{p}{)}
         \PY{n}{credit}\PY{o}{.}\PY{n}{vlines}\PY{p}{(}\PY{l+m+mf}{1.2}\PY{p}{,} \PY{l+m+mi}{0}\PY{p}{,} \PY{n}{yearly\PYZus{}credit\PYZus{}one}\PY{o}{.}\PY{n}{mean}\PY{p}{(}\PY{p}{)}\PY{p}{,} \PY{n}{colors}\PY{o}{=}\PY{l+s+s1}{\PYZsq{}}\PY{l+s+s1}{g}\PY{l+s+s1}{\PYZsq{}}\PY{p}{,} \PY{n}{lw}\PY{o}{=}\PY{l+m+mi}{50}\PY{p}{,} \PY{n}{alpha}\PY{o}{=}\PY{l+m+mf}{0.4}\PY{p}{)}
         
         \PY{n}{credit}\PY{o}{.}\PY{n}{vlines}\PY{p}{(}\PY{l+m+mi}{2}\PY{p}{,} \PY{l+m+mi}{0}\PY{p}{,} \PY{n}{quarter\PYZus{}credit\PYZus{}zero}\PY{o}{.}\PY{n}{mean}\PY{p}{(}\PY{p}{)}\PY{p}{,} \PY{n}{colors}\PY{o}{=}\PY{l+s+s1}{\PYZsq{}}\PY{l+s+s1}{b}\PY{l+s+s1}{\PYZsq{}}\PY{p}{,} \PY{n}{lw}\PY{o}{=}\PY{l+m+mi}{50}\PY{p}{,} \PY{n}{alpha}\PY{o}{=}\PY{l+m+mi}{1}\PY{p}{)}
         \PY{n}{credit}\PY{o}{.}\PY{n}{vlines}\PY{p}{(}\PY{l+m+mf}{2.2}\PY{p}{,} \PY{l+m+mi}{0}\PY{p}{,} \PY{n}{quarter\PYZus{}credit\PYZus{}one}\PY{o}{.}\PY{n}{mean}\PY{p}{(}\PY{p}{)}\PY{p}{,} \PY{n}{colors}\PY{o}{=}\PY{l+s+s1}{\PYZsq{}}\PY{l+s+s1}{g}\PY{l+s+s1}{\PYZsq{}}\PY{p}{,} \PY{n}{lw}\PY{o}{=}\PY{l+m+mi}{50}\PY{p}{,} \PY{n}{alpha}\PY{o}{=}\PY{l+m+mf}{0.4}\PY{p}{)}
         
         \PY{n}{credit}\PY{o}{.}\PY{n}{vlines}\PY{p}{(}\PY{l+m+mi}{3}\PY{p}{,} \PY{l+m+mi}{0}\PY{p}{,} \PY{n}{monthly\PYZus{}credit\PYZus{}zero}\PY{o}{.}\PY{n}{mean}\PY{p}{(}\PY{p}{)}\PY{p}{,} \PY{n}{colors}\PY{o}{=}\PY{l+s+s1}{\PYZsq{}}\PY{l+s+s1}{b}\PY{l+s+s1}{\PYZsq{}}\PY{p}{,} \PY{n}{lw}\PY{o}{=}\PY{l+m+mi}{50}\PY{p}{,} \PY{n}{alpha}\PY{o}{=}\PY{l+m+mi}{1}\PY{p}{)}
         \PY{n}{credit}\PY{o}{.}\PY{n}{vlines}\PY{p}{(}\PY{l+m+mf}{3.2}\PY{p}{,} \PY{l+m+mi}{0}\PY{p}{,} \PY{n}{monthly\PYZus{}credit\PYZus{}one}\PY{o}{.}\PY{n}{mean}\PY{p}{(}\PY{p}{)}\PY{p}{,} \PY{n}{colors}\PY{o}{=}\PY{l+s+s1}{\PYZsq{}}\PY{l+s+s1}{g}\PY{l+s+s1}{\PYZsq{}}\PY{p}{,} \PY{n}{lw}\PY{o}{=}\PY{l+m+mi}{50}\PY{p}{,} \PY{n}{alpha}\PY{o}{=}\PY{l+m+mf}{0.4}\PY{p}{)}
         
         \PY{n}{credit}\PY{o}{.}\PY{n}{vlines}\PY{p}{(}\PY{l+m+mi}{4}\PY{p}{,} \PY{l+m+mi}{0}\PY{p}{,} \PY{n}{weekly\PYZus{}credit\PYZus{}zero}\PY{o}{.}\PY{n}{mean}\PY{p}{(}\PY{p}{)}\PY{p}{,} \PY{n}{colors}\PY{o}{=}\PY{l+s+s1}{\PYZsq{}}\PY{l+s+s1}{b}\PY{l+s+s1}{\PYZsq{}}\PY{p}{,} \PY{n}{lw}\PY{o}{=}\PY{l+m+mi}{50}\PY{p}{,} \PY{n}{alpha}\PY{o}{=}\PY{l+m+mi}{1}\PY{p}{)}
         \PY{n}{credit}\PY{o}{.}\PY{n}{vlines}\PY{p}{(}\PY{l+m+mf}{4.2}\PY{p}{,} \PY{l+m+mi}{0}\PY{p}{,} \PY{n}{weekly\PYZus{}credit\PYZus{}one}\PY{o}{.}\PY{n}{mean}\PY{p}{(}\PY{p}{)}\PY{p}{,} \PY{n}{colors}\PY{o}{=}\PY{l+s+s1}{\PYZsq{}}\PY{l+s+s1}{g}\PY{l+s+s1}{\PYZsq{}}\PY{p}{,} \PY{n}{lw}\PY{o}{=}\PY{l+m+mi}{50}\PY{p}{,} \PY{n}{alpha}\PY{o}{=}\PY{l+m+mf}{0.4}\PY{p}{)}
         
         \PY{n}{credit}\PY{o}{.}\PY{n}{vlines}\PY{p}{(}\PY{l+m+mi}{5}\PY{p}{,} \PY{l+m+mi}{0}\PY{p}{,} \PY{n}{daily\PYZus{}credit\PYZus{}zero}\PY{o}{.}\PY{n}{mean}\PY{p}{(}\PY{p}{)}\PY{p}{,} \PY{n}{colors}\PY{o}{=}\PY{l+s+s1}{\PYZsq{}}\PY{l+s+s1}{b}\PY{l+s+s1}{\PYZsq{}}\PY{p}{,} \PY{n}{lw}\PY{o}{=}\PY{l+m+mi}{50}\PY{p}{,} \PY{n}{alpha}\PY{o}{=}\PY{l+m+mi}{1}\PY{p}{)}
         \PY{n}{credit}\PY{o}{.}\PY{n}{vlines}\PY{p}{(}\PY{l+m+mf}{5.2}\PY{p}{,} \PY{l+m+mi}{0}\PY{p}{,} \PY{n}{daily\PYZus{}credit\PYZus{}one}\PY{o}{.}\PY{n}{mean}\PY{p}{(}\PY{p}{)}\PY{p}{,} \PY{n}{colors}\PY{o}{=}\PY{l+s+s1}{\PYZsq{}}\PY{l+s+s1}{g}\PY{l+s+s1}{\PYZsq{}}\PY{p}{,} \PY{n}{lw}\PY{o}{=}\PY{l+m+mi}{50}\PY{p}{,} \PY{n}{alpha}\PY{o}{=}\PY{l+m+mf}{0.4}\PY{p}{)}
         
         \PY{n}{credit}\PY{o}{.}\PY{n}{vlines}\PY{p}{(}\PY{l+m+mi}{6}\PY{p}{,} \PY{l+m+mi}{0}\PY{p}{,} \PY{n}{hourly\PYZus{}credit\PYZus{}zero}\PY{o}{.}\PY{n}{mean}\PY{p}{(}\PY{p}{)}\PY{p}{,} \PY{n}{colors}\PY{o}{=}\PY{l+s+s1}{\PYZsq{}}\PY{l+s+s1}{b}\PY{l+s+s1}{\PYZsq{}}\PY{p}{,} \PY{n}{lw}\PY{o}{=}\PY{l+m+mi}{50}\PY{p}{,} \PY{n}{alpha}\PY{o}{=}\PY{l+m+mi}{1}\PY{p}{)}
         \PY{n}{credit}\PY{o}{.}\PY{n}{vlines}\PY{p}{(}\PY{l+m+mf}{6.2}\PY{p}{,} \PY{l+m+mi}{0}\PY{p}{,} \PY{n}{hourly\PYZus{}credit\PYZus{}one}\PY{o}{.}\PY{n}{mean}\PY{p}{(}\PY{p}{)}\PY{p}{,} \PY{n}{colors}\PY{o}{=}\PY{l+s+s1}{\PYZsq{}}\PY{l+s+s1}{g}\PY{l+s+s1}{\PYZsq{}}\PY{p}{,} \PY{n}{lw}\PY{o}{=}\PY{l+m+mi}{50}\PY{p}{,} \PY{n}{alpha}\PY{o}{=}\PY{l+m+mf}{0.4}\PY{p}{)}
         
         \PY{n}{ticks}\PY{o}{=}\PY{n}{credit}\PY{o}{.}\PY{n}{get\PYZus{}xticks}\PY{p}{(}\PY{p}{)}\PY{o}{.}\PY{n}{tolist}\PY{p}{(}\PY{p}{)}
         \PY{n}{ticks}\PY{p}{[}\PY{l+m+mi}{1}\PY{p}{]}\PY{p}{,}\PY{n}{ticks}\PY{p}{[}\PY{l+m+mi}{2}\PY{p}{]}\PY{p}{,}\PY{n}{ticks}\PY{p}{[}\PY{l+m+mi}{3}\PY{p}{]}\PY{p}{,}\PY{n}{ticks}\PY{p}{[}\PY{l+m+mi}{4}\PY{p}{]}\PY{p}{,}\PY{n}{ticks}\PY{p}{[}\PY{l+m+mi}{5}\PY{p}{]}\PY{p}{,}\PY{n}{ticks}\PY{p}{[}\PY{l+m+mi}{6}\PY{p}{]} \PY{o}{=} \PY{p}{[}\PY{l+s+s1}{\PYZsq{}}\PY{l+s+s1}{yearly mean}\PY{l+s+s1}{\PYZsq{}}\PY{p}{,} \PY{l+s+s1}{\PYZsq{}}\PY{l+s+s1}{quarterly mean}\PY{l+s+s1}{\PYZsq{}}\PY{p}{,} \PY{l+s+s1}{\PYZsq{}}\PY{l+s+s1}{monthly mean}\PY{l+s+s1}{\PYZsq{}}\PY{p}{,} \PY{l+s+s1}{\PYZsq{}}\PY{l+s+s1}{weekly mean}\PY{l+s+s1}{\PYZsq{}}\PY{p}{,} \PY{l+s+s1}{\PYZsq{}}\PY{l+s+s1}{daily mean}\PY{l+s+s1}{\PYZsq{}}\PY{p}{,} \PY{l+s+s1}{\PYZsq{}}\PY{l+s+s1}{hourly mean}\PY{l+s+s1}{\PYZsq{}}\PY{p}{]}
         \PY{l+s+sd}{\PYZdq{}\PYZdq{}\PYZdq{}set the newly appointed x values\PYZdq{}\PYZdq{}\PYZdq{}}
         \PY{n}{credit}\PY{o}{.}\PY{n}{set\PYZus{}xticklabels}\PY{p}{(}\PY{n}{ticks}\PY{p}{)}
         
         \PY{n}{credit}\PY{o}{.}\PY{n}{annotate}\PY{p}{(}\PY{l+s+s2}{\PYZdq{}}\PY{l+s+s2}{blue: individuals who are not delinquint in paying back loan }\PY{l+s+se}{\PYZbs{}n}\PY{l+s+s2}{green: individuals who are delinquint in paying back loan}\PY{l+s+s2}{\PYZdq{}}\PY{p}{,} 
                         \PY{n}{xy} \PY{o}{=} \PY{p}{[}\PY{l+m+mi}{2}\PY{p}{,}\PY{l+m+mi}{2}\PY{p}{]}\PY{p}{)}
\end{Verbatim}


    \begin{Verbatim}[commandchars=\\\{\}]
year not delinquint 1.8891994182327803
year delinquint 2.0287829347879023
quarter not delinquint 0.26593850704190924
quarter delinquint 0.259923050698875
month not delinquint 0.2706969392036959
month delinquint 0.22792577801587688
weekly not delinquint 0.03431530316672031
weekly delinquint 0.03491939804217601
daily not delinquint 0.00691357823506166
daily delinquint 0.008035844737739248
hourly not delinquint 0.006379884216916063
hourly delinquint 0.0066721862367895585

    \end{Verbatim}

\begin{Verbatim}[commandchars=\\\{\}]
{\color{outcolor}Out[{\color{outcolor}10}]:} Text(2,2,'blue: individuals who are not delinquint in paying back loan \textbackslash{}ngreen: individuals who are delinquint in paying back loan')
\end{Verbatim}
            
    \begin{center}
    \adjustimage{max size={0.9\linewidth}{0.9\paperheight}}{output_13_2.png}
    \end{center}
    { \hspace*{\fill} \\}
    
    The above bar chart shows the mean value of credit inquiries per year,
quarter, month, etc. The purposre for this is to try and understand if
there is any coorelation between people becomoing delinquint on a loan,
and the amount of loans(because that triggers a credit inquiry) they
apply for. As you can see from the chart, the average amount of credit
inquires is slightly higher for delinquint customers in the yearly
credit inquiries, but the oppsoite is true for quarterly and monthly.
The difference in weekly, daily and hourly credit inquiries averages are
also minimal. Therefore, I conlclude this vairable to be of minimal
importance. If I include this in the neural net, I'll proablle either
just use the yearly credit inquires mean since there is more
information, or run a PCA on all the variables.

    \begin{Verbatim}[commandchars=\\\{\}]
{\color{incolor}In [{\color{incolor}11}]:} \PY{n}{income\PYZus{}for\PYZus{}defaults} \PY{o}{=} \PY{n}{target\PYZus{}is\PYZus{}one}\PY{p}{[}\PY{l+s+s1}{\PYZsq{}}\PY{l+s+s1}{AMT\PYZus{}INCOME\PYZus{}TOTAL}\PY{l+s+s1}{\PYZsq{}}\PY{p}{]}
         \PY{n}{income\PYZus{}for\PYZus{}defaults} \PY{o}{=} \PY{n}{np}\PY{o}{.}\PY{n}{sort}\PY{p}{(}\PY{n}{income\PYZus{}for\PYZus{}defaults}\PY{p}{)}
         
         \PY{n}{list\PYZus{}of\PYZus{}frequencies} \PY{o}{=} \PY{p}{[}\PY{p}{]}
         \PY{n}{cooresponding\PYZus{}income} \PY{o}{=} \PY{p}{[}\PY{p}{]}
         
         \PY{n}{frequency\PYZus{}count} \PY{o}{=} \PY{l+m+mi}{0}
         \PY{l+s+sd}{\PYZdq{}\PYZdq{}\PYZdq{}count until our minumum integer + 10000\PYZdq{}\PYZdq{}\PYZdq{}}
         \PY{n}{count\PYZus{}until} \PY{o}{=} \PY{n}{income\PYZus{}for\PYZus{}defaults}\PY{o}{.}\PY{n}{min}\PY{p}{(}\PY{p}{)} \PY{o}{+} \PY{l+m+mi}{10000}
         \PY{k}{for} \PY{n}{e}\PY{p}{,}\PY{n}{i} \PY{o+ow}{in} \PY{n+nb}{enumerate}\PY{p}{(}\PY{n}{income\PYZus{}for\PYZus{}defaults}\PY{p}{)}\PY{p}{:}
             \PY{k}{if} \PY{n}{i} \PY{o}{\PYZlt{}} \PY{n}{count\PYZus{}until}\PY{p}{:}
                 \PY{n}{frequency\PYZus{}count} \PY{o}{+}\PY{o}{=} \PY{l+m+mi}{1}
             \PY{k}{else}\PY{p}{:}
                 \PY{n}{cooresponding\PYZus{}income}\PY{o}{.}\PY{n}{append}\PY{p}{(}\PY{n}{count\PYZus{}until}\PY{p}{)}
                 \PY{n}{list\PYZus{}of\PYZus{}frequencies}\PY{o}{.}\PY{n}{append}\PY{p}{(}\PY{n}{frequency\PYZus{}count}\PY{p}{)}
                 \PY{l+s+sd}{\PYZdq{}\PYZdq{}\PYZdq{}now count until our current integer + 10000\PYZdq{}\PYZdq{}\PYZdq{}}
                 \PY{n}{count\PYZus{}until} \PY{o}{=} \PY{n}{i} \PY{o}{+} \PY{l+m+mi}{10000}
                 \PY{n}{frequency\PYZus{}count} \PY{o}{=} \PY{l+m+mi}{1}
                 \PY{l+s+sd}{\PYZdq{}\PYZdq{}\PYZdq{}if our iteration is our last element\PYZdq{}\PYZdq{}\PYZdq{}}
             \PY{k}{if} \PY{n}{e}\PY{o}{+}\PY{l+m+mi}{1} \PY{o}{==} \PY{n+nb}{len}\PY{p}{(}\PY{n}{income\PYZus{}for\PYZus{}defaults}\PY{p}{)}\PY{p}{:}    
                 \PY{n}{cooresponding\PYZus{}income}\PY{o}{.}\PY{n}{append}\PY{p}{(}\PY{n}{count\PYZus{}until}\PY{p}{)}
                 \PY{n}{list\PYZus{}of\PYZus{}frequencies}\PY{o}{.}\PY{n}{append}\PY{p}{(}\PY{n}{frequency\PYZus{}count}\PY{p}{)}
         
         \PY{n}{scaled\PYZus{}cooresponding\PYZus{}income} \PY{o}{=} \PY{p}{(}\PY{n}{np}\PY{o}{.}\PY{n}{array}\PY{p}{(}\PY{n}{cooresponding\PYZus{}income}\PY{p}{)} \PY{o}{*} \PY{o}{.}\PY{l+m+mi}{001}\PY{p}{)}\PY{o}{.}\PY{n}{tolist}\PY{p}{(}\PY{p}{)}
         
         \PY{n}{new\PYZus{}li} \PY{o}{=} \PY{p}{[}\PY{p}{]}
         \PY{k}{for} \PY{n}{e}\PY{p}{,}\PY{n}{i} \PY{o+ow}{in} \PY{n+nb}{enumerate}\PY{p}{(}\PY{n}{scaled\PYZus{}cooresponding\PYZus{}income}\PY{p}{)}\PY{p}{:}
             \PY{n}{new\PYZus{}li}\PY{o}{.}\PY{n}{append}\PY{p}{(} \PY{p}{[}\PY{n}{i}\PY{p}{]} \PY{o}{*} \PY{n}{list\PYZus{}of\PYZus{}frequencies}\PY{p}{[}\PY{n}{e}\PY{p}{]} \PY{p}{)}
         \PY{n}{scaled\PYZus{}cooresponding\PYZus{}income} \PY{o}{=} \PY{p}{[}\PY{n}{ii} \PY{k}{for} \PY{n}{i} \PY{o+ow}{in} \PY{n}{new\PYZus{}li} \PY{k}{for} \PY{n}{ii} \PY{o+ow}{in} \PY{n}{i}\PY{p}{]}
         \PY{k}{del}\PY{p}{(}\PY{n}{scaled\PYZus{}cooresponding\PYZus{}income}\PY{p}{[}\PY{o}{\PYZhy{}}\PY{l+m+mi}{1}\PY{p}{]}\PY{p}{)}
         
         
         \PY{n}{fit} \PY{o}{=} \PY{n}{stats}\PY{o}{.}\PY{n}{norm}\PY{o}{.}\PY{n}{pdf}\PY{p}{(}\PY{n}{scaled\PYZus{}cooresponding\PYZus{}income}\PY{p}{[}\PY{p}{:}\PY{l+m+mi}{24800}\PY{p}{]}\PY{p}{,} \PY{n}{np}\PY{o}{.}\PY{n}{mean}\PY{p}{(}\PY{n}{scaled\PYZus{}cooresponding\PYZus{}income}\PY{p}{[}\PY{p}{:}\PY{l+m+mi}{24800}\PY{p}{]}\PY{p}{)}\PY{p}{,} \PY{n}{np}\PY{o}{.}\PY{n}{std}\PY{p}{(}\PY{n}{scaled\PYZus{}cooresponding\PYZus{}income}\PY{p}{[}\PY{p}{:}\PY{l+m+mi}{24800}\PY{p}{]}\PY{p}{)}\PY{p}{)}
         \PY{n}{plt}\PY{o}{.}\PY{n}{figure}\PY{p}{(}\PY{n}{figsize}\PY{o}{=}\PY{p}{(}\PY{l+m+mi}{8}\PY{p}{,} \PY{l+m+mi}{8}\PY{p}{)}\PY{p}{)}
         \PY{n}{plt}\PY{o}{.}\PY{n}{plot}\PY{p}{(}\PY{n}{scaled\PYZus{}cooresponding\PYZus{}income}\PY{p}{[}\PY{p}{:}\PY{l+m+mi}{24800}\PY{p}{]}\PY{p}{,} \PY{n}{fit}\PY{p}{)}
         
         
         \PY{n}{plt}\PY{o}{.}\PY{n}{annotate}\PY{p}{(}\PY{l+s+s2}{\PYZdq{}}\PY{l+s+s2}{income for people that defaulted on loan}\PY{l+s+s2}{\PYZdq{}}\PY{p}{,} \PY{n}{xy}\PY{o}{=}\PY{p}{[}\PY{l+m+mi}{175}\PY{p}{,}\PY{l+m+mf}{0.015}\PY{p}{]}\PY{p}{)}
         \PY{n}{plt}\PY{o}{.}\PY{n}{xlabel}\PY{p}{(}\PY{l+s+s1}{\PYZsq{}}\PY{l+s+s1}{income (\PYZdl{} thousands)}\PY{l+s+s1}{\PYZsq{}}\PY{p}{)}
         \PY{n}{plt}\PY{o}{.}\PY{n}{hist}\PY{p}{(}\PY{n}{scaled\PYZus{}cooresponding\PYZus{}income}\PY{p}{[}\PY{p}{:}\PY{l+m+mi}{24800}\PY{p}{]}\PY{p}{,} \PY{l+m+mi}{100}\PY{p}{,} \PY{n}{density} \PY{o}{=} \PY{k+kc}{True}\PY{p}{)}
         \PY{n+nb}{print}\PY{p}{(}\PY{l+s+s1}{\PYZsq{}}\PY{l+s+s1}{average income is: \PYZdl{}}\PY{l+s+s1}{\PYZsq{}}\PY{p}{,} \PY{n+nb}{int}\PY{p}{(}\PY{n}{np}\PY{o}{.}\PY{n}{mean}\PY{p}{(}\PY{n}{scaled\PYZus{}cooresponding\PYZus{}income}\PY{p}{)} \PY{o}{*} \PY{l+m+mi}{1000}\PY{p}{)}\PY{p}{)}
         \PY{n}{plt}\PY{o}{.}\PY{n}{show}\PY{p}{(}\PY{p}{)}
         
         
         \PY{n}{income\PYZus{}for\PYZus{}non\PYZus{}defaults} \PY{o}{=} \PY{n}{target\PYZus{}is\PYZus{}zero}\PY{p}{[}\PY{l+s+s1}{\PYZsq{}}\PY{l+s+s1}{AMT\PYZus{}INCOME\PYZus{}TOTAL}\PY{l+s+s1}{\PYZsq{}}\PY{p}{]}
         \PY{n}{income\PYZus{}for\PYZus{}non\PYZus{}defaults} \PY{o}{=} \PY{n}{np}\PY{o}{.}\PY{n}{sort}\PY{p}{(}\PY{n}{income\PYZus{}for\PYZus{}non\PYZus{}defaults}\PY{p}{)}
         
         \PY{n}{list\PYZus{}of\PYZus{}frequencies} \PY{o}{=} \PY{p}{[}\PY{p}{]}
         \PY{n}{cooresponding\PYZus{}income} \PY{o}{=} \PY{p}{[}\PY{p}{]}
         
         \PY{n}{frequency\PYZus{}count} \PY{o}{=} \PY{l+m+mi}{0}
         \PY{l+s+sd}{\PYZdq{}\PYZdq{}\PYZdq{}count until our minumum integer + 10000\PYZdq{}\PYZdq{}\PYZdq{}}
         \PY{n}{count\PYZus{}until} \PY{o}{=} \PY{n}{income\PYZus{}for\PYZus{}non\PYZus{}defaults}\PY{o}{.}\PY{n}{min}\PY{p}{(}\PY{p}{)} \PY{o}{+} \PY{l+m+mi}{10000}
         \PY{k}{for} \PY{n}{e}\PY{p}{,}\PY{n}{i} \PY{o+ow}{in} \PY{n+nb}{enumerate}\PY{p}{(}\PY{n}{income\PYZus{}for\PYZus{}non\PYZus{}defaults}\PY{p}{)}\PY{p}{:}
             \PY{k}{if} \PY{n}{i} \PY{o}{\PYZlt{}} \PY{n}{count\PYZus{}until}\PY{p}{:}
                 \PY{n}{frequency\PYZus{}count} \PY{o}{+}\PY{o}{=} \PY{l+m+mi}{1}
             \PY{k}{else}\PY{p}{:}
                 \PY{n}{cooresponding\PYZus{}income}\PY{o}{.}\PY{n}{append}\PY{p}{(}\PY{n}{count\PYZus{}until}\PY{p}{)}
                 \PY{n}{list\PYZus{}of\PYZus{}frequencies}\PY{o}{.}\PY{n}{append}\PY{p}{(}\PY{n}{frequency\PYZus{}count}\PY{p}{)}
                 \PY{l+s+sd}{\PYZdq{}\PYZdq{}\PYZdq{}now count until our current integer + 10000\PYZdq{}\PYZdq{}\PYZdq{}}
                 \PY{n}{count\PYZus{}until} \PY{o}{=} \PY{n}{i} \PY{o}{+} \PY{l+m+mi}{10000}
                 \PY{n}{frequency\PYZus{}count} \PY{o}{=} \PY{l+m+mi}{1}
                 \PY{l+s+sd}{\PYZdq{}\PYZdq{}\PYZdq{}if our iteration is our last element\PYZdq{}\PYZdq{}\PYZdq{}}
             \PY{k}{if} \PY{n}{e}\PY{o}{+}\PY{l+m+mi}{1} \PY{o}{==} \PY{n+nb}{len}\PY{p}{(}\PY{n}{income\PYZus{}for\PYZus{}non\PYZus{}defaults}\PY{p}{)}\PY{p}{:}    
                 \PY{n}{cooresponding\PYZus{}income}\PY{o}{.}\PY{n}{append}\PY{p}{(}\PY{n}{count\PYZus{}until}\PY{p}{)}
                 \PY{n}{list\PYZus{}of\PYZus{}frequencies}\PY{o}{.}\PY{n}{append}\PY{p}{(}\PY{n}{frequency\PYZus{}count}\PY{p}{)}
         
         
         \PY{n}{scaled\PYZus{}cooresponding\PYZus{}income} \PY{o}{=} \PY{p}{(}\PY{n}{np}\PY{o}{.}\PY{n}{array}\PY{p}{(}\PY{n}{cooresponding\PYZus{}income}\PY{p}{)} \PY{o}{*} \PY{o}{.}\PY{l+m+mi}{001}\PY{p}{)}\PY{o}{.}\PY{n}{tolist}\PY{p}{(}\PY{p}{)}
         
         \PY{n}{new\PYZus{}li} \PY{o}{=} \PY{p}{[}\PY{p}{]}
         \PY{k}{for} \PY{n}{e}\PY{p}{,}\PY{n}{i} \PY{o+ow}{in} \PY{n+nb}{enumerate}\PY{p}{(}\PY{n}{scaled\PYZus{}cooresponding\PYZus{}income}\PY{p}{)}\PY{p}{:}
             \PY{n}{new\PYZus{}li}\PY{o}{.}\PY{n}{append}\PY{p}{(} \PY{p}{[}\PY{n}{i}\PY{p}{]} \PY{o}{*} \PY{n}{list\PYZus{}of\PYZus{}frequencies}\PY{p}{[}\PY{n}{e}\PY{p}{]} \PY{p}{)}
         \PY{n}{scaled\PYZus{}cooresponding\PYZus{}income} \PY{o}{=} \PY{p}{[}\PY{n}{ii} \PY{k}{for} \PY{n}{i} \PY{o+ow}{in} \PY{n}{new\PYZus{}li} \PY{k}{for} \PY{n}{ii} \PY{o+ow}{in} \PY{n}{i}\PY{p}{]}
         \PY{k}{del}\PY{p}{(}\PY{n}{scaled\PYZus{}cooresponding\PYZus{}income}\PY{p}{[}\PY{o}{\PYZhy{}}\PY{l+m+mi}{1}\PY{p}{]}\PY{p}{)}
         
         
         \PY{n}{fit} \PY{o}{=} \PY{n}{stats}\PY{o}{.}\PY{n}{norm}\PY{o}{.}\PY{n}{pdf}\PY{p}{(}\PY{n}{scaled\PYZus{}cooresponding\PYZus{}income}\PY{p}{[}\PY{p}{:}\PY{l+m+mi}{282000}\PY{p}{]}\PY{p}{,} \PY{n}{np}\PY{o}{.}\PY{n}{mean}\PY{p}{(}\PY{n}{scaled\PYZus{}cooresponding\PYZus{}income}\PY{p}{[}\PY{p}{:}\PY{l+m+mi}{282000}\PY{p}{]}\PY{p}{)}\PY{p}{,} \PY{n}{np}\PY{o}{.}\PY{n}{std}\PY{p}{(}\PY{n}{scaled\PYZus{}cooresponding\PYZus{}income}\PY{p}{[}\PY{p}{:}\PY{l+m+mi}{282000}\PY{p}{]}\PY{p}{)}\PY{p}{)}
         \PY{n}{plt}\PY{o}{.}\PY{n}{figure}\PY{p}{(}\PY{n}{figsize}\PY{o}{=}\PY{p}{(}\PY{l+m+mi}{8}\PY{p}{,} \PY{l+m+mi}{8}\PY{p}{)}\PY{p}{)}
         \PY{n}{plt}\PY{o}{.}\PY{n}{plot}\PY{p}{(}\PY{n}{scaled\PYZus{}cooresponding\PYZus{}income}\PY{p}{[}\PY{p}{:}\PY{l+m+mi}{282000}\PY{p}{]}\PY{p}{,} \PY{n}{fit}\PY{p}{)}
         
         \PY{n}{plt}\PY{o}{.}\PY{n}{hist}\PY{p}{(}\PY{n}{scaled\PYZus{}cooresponding\PYZus{}income}\PY{p}{[}\PY{p}{:}\PY{l+m+mi}{282000}\PY{p}{]}\PY{p}{,} \PY{l+m+mi}{100}\PY{p}{,} \PY{n}{density} \PY{o}{=} \PY{k+kc}{True}\PY{p}{)}
         \PY{n}{plt}\PY{o}{.}\PY{n}{annotate}\PY{p}{(}\PY{l+s+s2}{\PYZdq{}}\PY{l+s+s2}{income for people that didn}\PY{l+s+s2}{\PYZsq{}}\PY{l+s+s2}{t default on loan}\PY{l+s+s2}{\PYZdq{}}\PY{p}{,} \PY{n}{xy}\PY{o}{=}\PY{p}{[}\PY{l+m+mi}{190}\PY{p}{,}\PY{l+m+mf}{0.0175}\PY{p}{]}\PY{p}{)}
         \PY{n}{plt}\PY{o}{.}\PY{n}{xlabel}\PY{p}{(}\PY{l+s+s1}{\PYZsq{}}\PY{l+s+s1}{income (\PYZdl{} thousands)}\PY{l+s+s1}{\PYZsq{}}\PY{p}{)}
         \PY{n+nb}{print}\PY{p}{(}\PY{l+s+s1}{\PYZsq{}}\PY{l+s+s1}{average income is: \PYZdl{}}\PY{l+s+s1}{\PYZsq{}}\PY{p}{,} \PY{n+nb}{int}\PY{p}{(}\PY{n}{np}\PY{o}{.}\PY{n}{mean}\PY{p}{(}\PY{n}{scaled\PYZus{}cooresponding\PYZus{}income}\PY{p}{)} \PY{o}{*} \PY{l+m+mi}{1000}\PY{p}{)}\PY{p}{)}
         \PY{n}{plt}\PY{o}{.}\PY{n}{show}\PY{p}{(}\PY{p}{)}
\end{Verbatim}


    \begin{Verbatim}[commandchars=\\\{\}]
average income is: \$ 166035

    \end{Verbatim}

    \begin{center}
    \adjustimage{max size={0.9\linewidth}{0.9\paperheight}}{output_15_1.png}
    \end{center}
    { \hspace*{\fill} \\}
    
    \begin{Verbatim}[commandchars=\\\{\}]
average income is: \$ 174180

    \end{Verbatim}

    \begin{center}
    \adjustimage{max size={0.9\linewidth}{0.9\paperheight}}{output_15_3.png}
    \end{center}
    { \hspace*{\fill} \\}
    
    The distributions of individuals that defaulted on a loas vs the
individuals that did not default on a loan are somewhat similiar. It is
also worth noting that the means of the distribution are only \$8,145
dollars apart. This must be due to the fact that the credit lenders are
already taking into account various statistical measurues when
allocating their loans to individuals. In hindsight, I think it makes
sense that their is minimal diference in distributions between
delinquint lendee's and non delinquint lendee's. Lets check out the
distributions associated with the amount of credit lines individuals are
recieveing, and the distributions with respect to delinquint and non
delinquint lendee's

    \begin{Verbatim}[commandchars=\\\{\}]
{\color{incolor}In [{\color{incolor}12}]:} \PY{n}{delinquint\PYZus{}credit\PYZus{}amount} \PY{o}{=} \PY{n}{np}\PY{o}{.}\PY{n}{sort}\PY{p}{(}\PY{n}{np}\PY{o}{.}\PY{n}{array}\PY{p}{(}\PY{n}{target\PYZus{}is\PYZus{}one}\PY{p}{[}\PY{l+s+s1}{\PYZsq{}}\PY{l+s+s1}{AMT\PYZus{}CREDIT}\PY{l+s+s1}{\PYZsq{}}\PY{p}{]}\PY{p}{)}\PY{p}{)}
         \PY{l+s+sd}{\PYZdq{}\PYZdq{}\PYZdq{}get rid of last element becuase it is an outlier and it dicks up the histogram\PYZdq{}\PYZdq{}\PYZdq{}}
         \PY{n}{delinquint\PYZus{}credit\PYZus{}amount} \PY{o}{=} \PY{n}{delinquint\PYZus{}credit\PYZus{}amount}\PY{p}{[}\PY{p}{:}\PY{o}{\PYZhy{}}\PY{l+m+mi}{1}\PY{p}{]}
         
         \PY{l+s+sd}{\PYZdq{}\PYZdq{}\PYZdq{}scale and calculate bins for histogram\PYZdq{}\PYZdq{}\PYZdq{}}
         \PY{n}{delinquint} \PY{o}{=} \PY{n}{np}\PY{o}{.}\PY{n}{histogram}\PY{p}{(}\PY{p}{(}\PY{n}{delinquint\PYZus{}credit\PYZus{}amount} \PY{o}{*} \PY{o}{.}\PY{l+m+mi}{001}\PY{p}{)}\PY{p}{,} \PY{n}{bins} \PY{o}{=} \PY{l+m+mi}{30}\PY{p}{)}
         
         \PY{l+s+sd}{\PYZdq{}\PYZdq{}\PYZdq{}numpy.hist has an extra element in the value array because the count array counts from the }
         \PY{l+s+sd}{first to the second number in value array, so we delete the last element here\PYZdq{}\PYZdq{}\PYZdq{}}
         \PY{n}{remove\PYZus{}last\PYZus{}element} \PY{o}{=} \PY{n}{np}\PY{o}{.}\PY{n}{delete}\PY{p}{(}\PY{n}{delinquint}\PY{p}{[}\PY{l+m+mi}{1}\PY{p}{]}\PY{p}{,}\PY{o}{\PYZhy{}}\PY{l+m+mi}{1}\PY{p}{)}
         
         \PY{n}{new\PYZus{}li} \PY{o}{=} \PY{p}{[}\PY{p}{]}
         \PY{k}{for} \PY{n}{e}\PY{p}{,}\PY{n}{i} \PY{o+ow}{in} \PY{n+nb}{enumerate}\PY{p}{(}\PY{n}{remove\PYZus{}last\PYZus{}element}\PY{p}{)}\PY{p}{:}
             \PY{n}{new\PYZus{}li}\PY{o}{.}\PY{n}{append}\PY{p}{(} \PY{p}{[}\PY{n}{i}\PY{p}{]} \PY{o}{*} \PY{n}{delinquint}\PY{p}{[}\PY{l+m+mi}{0}\PY{p}{]}\PY{p}{[}\PY{n}{e}\PY{p}{]}\PY{p}{)}
         \PY{n}{scaled\PYZus{}cooresponding\PYZus{}credit} \PY{o}{=} \PY{p}{[}\PY{n}{ii} \PY{k}{for} \PY{n}{i} \PY{o+ow}{in} \PY{n}{new\PYZus{}li} \PY{k}{for} \PY{n}{ii} \PY{o+ow}{in} \PY{n}{i}\PY{p}{]}
         
         \PY{n}{fig} \PY{o}{=} \PY{n}{plt}\PY{o}{.}\PY{n}{figure}\PY{p}{(}\PY{n}{figsize}\PY{o}{=}\PY{p}{(}\PY{l+m+mi}{8}\PY{p}{,} \PY{l+m+mi}{8}\PY{p}{)}\PY{p}{)}
         \PY{n}{delinquint\PYZus{}credit\PYZus{}loan} \PY{o}{=} \PY{n}{fig}\PY{o}{.}\PY{n}{add\PYZus{}subplot}\PY{p}{(}\PY{l+m+mi}{111}\PY{p}{)}
         
         \PY{n+nb}{print}\PY{p}{(}\PY{l+s+s2}{\PYZdq{}}\PY{l+s+s2}{average credit line for people that defaulted on loan:}\PY{l+s+s2}{\PYZdq{}}\PY{p}{,} \PY{n}{np}\PY{o}{.}\PY{n}{mean}\PY{p}{(}\PY{n}{scaled\PYZus{}cooresponding\PYZus{}credit}\PY{p}{)}\PY{p}{)}
         
         \PY{l+s+sd}{\PYZdq{}\PYZdq{}\PYZdq{}creates histograms\PYZdq{}\PYZdq{}\PYZdq{}}
         \PY{n}{delinquint\PYZus{}credit\PYZus{}loan}\PY{o}{.}\PY{n}{hist}\PY{p}{(}\PY{n}{scaled\PYZus{}cooresponding\PYZus{}credit}\PY{p}{,} \PY{l+m+mi}{100}\PY{p}{,} \PY{n}{density} \PY{o}{=} \PY{k+kc}{True}\PY{p}{)}
         \PY{l+s+sd}{\PYZdq{}\PYZdq{}\PYZdq{}gets y values for normal distribution\PYZdq{}\PYZdq{}\PYZdq{}}
         \PY{n}{fit\PYZus{}delinquint} \PY{o}{=} \PY{n}{stats}\PY{o}{.}\PY{n}{norm}\PY{o}{.}\PY{n}{pdf}\PY{p}{(}\PY{n}{scaled\PYZus{}cooresponding\PYZus{}credit}\PY{p}{,} \PY{n}{np}\PY{o}{.}\PY{n}{mean}\PY{p}{(}\PY{n}{scaled\PYZus{}cooresponding\PYZus{}credit}\PY{p}{)}\PY{p}{,} \PY{n}{np}\PY{o}{.}\PY{n}{std}\PY{p}{(}\PY{n}{scaled\PYZus{}cooresponding\PYZus{}credit}\PY{p}{)}\PY{p}{)}
         \PY{l+s+sd}{\PYZdq{}\PYZdq{}\PYZdq{}plots normal distribution\PYZdq{}\PYZdq{}\PYZdq{}}
         \PY{n}{delinquint\PYZus{}credit\PYZus{}loan}\PY{o}{.}\PY{n}{plot}\PY{p}{(}\PY{n}{scaled\PYZus{}cooresponding\PYZus{}credit}\PY{p}{,} \PY{n}{fit\PYZus{}delinquint}\PY{p}{)}
         
         \PY{n}{delinquint\PYZus{}credit\PYZus{}loan}\PY{o}{.}\PY{n}{annotate}\PY{p}{(}\PY{l+s+s2}{\PYZdq{}}\PY{l+s+s2}{credit line for people that defaulted on loan}\PY{l+s+s2}{\PYZdq{}}\PY{p}{,} \PY{n}{xy}\PY{o}{=}\PY{p}{[}\PY{l+m+mi}{500}\PY{p}{,}\PY{l+m+mf}{0.0058}\PY{p}{]}\PY{p}{)}
         \PY{n}{delinquint\PYZus{}credit\PYZus{}loan}\PY{o}{.}\PY{n}{set\PYZus{}xlabel}\PY{p}{(}\PY{l+s+s1}{\PYZsq{}}\PY{l+s+s1}{credit line (\PYZdl{} thousands)}\PY{l+s+s1}{\PYZsq{}}\PY{p}{)}
         
         
         
         \PY{n}{not\PYZus{}delinquint\PYZus{}credit\PYZus{}amount} \PY{o}{=} \PY{n}{np}\PY{o}{.}\PY{n}{sort}\PY{p}{(}\PY{n}{np}\PY{o}{.}\PY{n}{array}\PY{p}{(}\PY{n}{target\PYZus{}is\PYZus{}zero}\PY{p}{[}\PY{l+s+s1}{\PYZsq{}}\PY{l+s+s1}{AMT\PYZus{}CREDIT}\PY{l+s+s1}{\PYZsq{}}\PY{p}{]}\PY{p}{)}\PY{p}{)}
         \PY{n}{not\PYZus{}delinquint} \PY{o}{=} \PY{n}{np}\PY{o}{.}\PY{n}{histogram}\PY{p}{(}\PY{p}{(}\PY{n}{not\PYZus{}delinquint\PYZus{}credit\PYZus{}amount} \PY{o}{*} \PY{o}{.}\PY{l+m+mi}{001}\PY{p}{)}\PY{p}{,} \PY{n}{bins} \PY{o}{=} \PY{l+m+mi}{30}\PY{p}{)}
         
         \PY{l+s+sd}{\PYZdq{}\PYZdq{}\PYZdq{}numpy.hist has an extra element in the value array because the count array counts from the }
         \PY{l+s+sd}{first to the second number in value array, so we delete the last element here\PYZdq{}\PYZdq{}\PYZdq{}}
         \PY{n}{remove\PYZus{}last\PYZus{}element} \PY{o}{=} \PY{n}{np}\PY{o}{.}\PY{n}{delete}\PY{p}{(}\PY{n}{not\PYZus{}delinquint}\PY{p}{[}\PY{l+m+mi}{1}\PY{p}{]}\PY{p}{,}\PY{o}{\PYZhy{}}\PY{l+m+mi}{1}\PY{p}{)}
         
         \PY{n}{new\PYZus{}li} \PY{o}{=} \PY{p}{[}\PY{p}{]}
         \PY{k}{for} \PY{n}{e}\PY{p}{,}\PY{n}{i} \PY{o+ow}{in} \PY{n+nb}{enumerate}\PY{p}{(}\PY{n}{remove\PYZus{}last\PYZus{}element}\PY{p}{)}\PY{p}{:}
             \PY{n}{new\PYZus{}li}\PY{o}{.}\PY{n}{append}\PY{p}{(} \PY{p}{[}\PY{n}{i}\PY{p}{]} \PY{o}{*} \PY{n}{not\PYZus{}delinquint}\PY{p}{[}\PY{l+m+mi}{0}\PY{p}{]}\PY{p}{[}\PY{n}{e}\PY{p}{]}\PY{p}{)}
         \PY{n}{scaled\PYZus{}cooresponding\PYZus{}credit} \PY{o}{=} \PY{p}{[}\PY{n}{ii} \PY{k}{for} \PY{n}{i} \PY{o+ow}{in} \PY{n}{new\PYZus{}li} \PY{k}{for} \PY{n}{ii} \PY{o+ow}{in} \PY{n}{i}\PY{p}{]}
         
         \PY{n}{fig\PYZus{}two} \PY{o}{=} \PY{n}{plt}\PY{o}{.}\PY{n}{figure}\PY{p}{(}\PY{n}{figsize}\PY{o}{=}\PY{p}{(}\PY{l+m+mi}{8}\PY{p}{,} \PY{l+m+mi}{8}\PY{p}{)}\PY{p}{)}
         \PY{n}{not\PYZus{}delinquint\PYZus{}credit\PYZus{}loan} \PY{o}{=} \PY{n}{fig\PYZus{}two}\PY{o}{.}\PY{n}{add\PYZus{}subplot}\PY{p}{(}\PY{l+m+mi}{111}\PY{p}{)}
         
         \PY{n+nb}{print}\PY{p}{(}\PY{l+s+s2}{\PYZdq{}}\PY{l+s+s2}{average credit line for people that didn}\PY{l+s+s2}{\PYZsq{}}\PY{l+s+s2}{t default on loan:}\PY{l+s+s2}{\PYZdq{}}\PY{p}{,} \PY{n}{np}\PY{o}{.}\PY{n}{mean}\PY{p}{(}\PY{n}{scaled\PYZus{}cooresponding\PYZus{}credit}\PY{p}{)}\PY{p}{)}
         
         \PY{l+s+sd}{\PYZdq{}\PYZdq{}\PYZdq{}creates histograms\PYZdq{}\PYZdq{}\PYZdq{}}
         \PY{n}{not\PYZus{}delinquint\PYZus{}credit\PYZus{}loan}\PY{o}{.}\PY{n}{hist}\PY{p}{(}\PY{n}{scaled\PYZus{}cooresponding\PYZus{}credit}\PY{p}{,} \PY{l+m+mi}{100}\PY{p}{,} \PY{n}{density} \PY{o}{=} \PY{k+kc}{True}\PY{p}{)}
         \PY{l+s+sd}{\PYZdq{}\PYZdq{}\PYZdq{}gets y values for normal distribution\PYZdq{}\PYZdq{}\PYZdq{}}
         \PY{n}{fit\PYZus{}not\PYZus{}delinquint} \PY{o}{=} \PY{n}{stats}\PY{o}{.}\PY{n}{norm}\PY{o}{.}\PY{n}{pdf}\PY{p}{(}\PY{n}{scaled\PYZus{}cooresponding\PYZus{}credit}\PY{p}{,} \PY{n}{np}\PY{o}{.}\PY{n}{mean}\PY{p}{(}\PY{n}{scaled\PYZus{}cooresponding\PYZus{}credit}\PY{p}{)}\PY{p}{,} \PY{n}{np}\PY{o}{.}\PY{n}{std}\PY{p}{(}\PY{n}{scaled\PYZus{}cooresponding\PYZus{}credit}\PY{p}{)}\PY{p}{)}
         \PY{l+s+sd}{\PYZdq{}\PYZdq{}\PYZdq{}plots normal distribution\PYZdq{}\PYZdq{}\PYZdq{}}
         \PY{n}{not\PYZus{}delinquint\PYZus{}credit\PYZus{}loan}\PY{o}{.}\PY{n}{plot}\PY{p}{(}\PY{n}{scaled\PYZus{}cooresponding\PYZus{}credit}\PY{p}{,} \PY{n}{fit\PYZus{}not\PYZus{}delinquint}\PY{p}{)}
         
         \PY{n}{not\PYZus{}delinquint\PYZus{}credit\PYZus{}loan}\PY{o}{.}\PY{n}{annotate}\PY{p}{(}\PY{l+s+s2}{\PYZdq{}}\PY{l+s+s2}{credit line for people that didn}\PY{l+s+s2}{\PYZsq{}}\PY{l+s+s2}{t defaulted on loan}\PY{l+s+s2}{\PYZdq{}}\PY{p}{,} \PY{n}{xy}\PY{o}{=}\PY{p}{[}\PY{l+m+mi}{500}\PY{p}{,}\PY{l+m+mf}{0.0055}\PY{p}{]}\PY{p}{)}
         \PY{n}{not\PYZus{}delinquint\PYZus{}credit\PYZus{}loan}\PY{o}{.}\PY{n}{set\PYZus{}xlabel}\PY{p}{(}\PY{l+s+s1}{\PYZsq{}}\PY{l+s+s1}{credit line (\PYZdl{} thousands)}\PY{l+s+s1}{\PYZsq{}}\PY{p}{)}
\end{Verbatim}


    \begin{Verbatim}[commandchars=\\\{\}]
average credit line for people that defaulted on loan: 510.523911376
average credit line for people that didn't default on loan: 539.198784163

    \end{Verbatim}

\begin{Verbatim}[commandchars=\\\{\}]
{\color{outcolor}Out[{\color{outcolor}12}]:} Text(0.5,0,'credit line (\$ thousands)')
\end{Verbatim}
            
    \begin{center}
    \adjustimage{max size={0.9\linewidth}{0.9\paperheight}}{output_17_2.png}
    \end{center}
    { \hspace*{\fill} \\}
    
    \begin{center}
    \adjustimage{max size={0.9\linewidth}{0.9\paperheight}}{output_17_3.png}
    \end{center}
    { \hspace*{\fill} \\}
    
    From looking at the two charts we see not only the increased average for
people that didn't default on the loan, but also the increase in people
with loans excedding \$200,000, which seems to be the main reason for
the increased average. It seems as though the bigger the credit line,
the less likely individuals are to default on loans. This probally has
something to do with the current statistical paramters the credit
lenders algorithm uses. It generally will give bigger loans to
individuals who are less liky to defualt, and their statisitcal
parameters obviously seem to be working, at least somewhat.

    \begin{Verbatim}[commandchars=\\\{\}]
{\color{incolor}In [{\color{incolor}22}]:} \PY{n}{delinquint\PYZus{}annuity\PYZus{}amount} \PY{o}{=} \PY{n}{np}\PY{o}{.}\PY{n}{sort}\PY{p}{(}\PY{n}{np}\PY{o}{.}\PY{n}{array}\PY{p}{(}\PY{n}{target\PYZus{}is\PYZus{}one}\PY{p}{[}\PY{l+s+s1}{\PYZsq{}}\PY{l+s+s1}{AMT\PYZus{}ANNUITY}\PY{l+s+s1}{\PYZsq{}}\PY{p}{]}\PY{p}{)}\PY{p}{)}
         
         \PY{l+s+sd}{\PYZdq{}\PYZdq{}\PYZdq{}scale and calculate bins for histogram\PYZdq{}\PYZdq{}\PYZdq{}}
         \PY{n}{delinquint} \PY{o}{=} \PY{n}{np}\PY{o}{.}\PY{n}{histogram}\PY{p}{(}\PY{p}{(}\PY{n}{delinquint\PYZus{}annuity\PYZus{}amount} \PY{o}{*} \PY{o}{.}\PY{l+m+mi}{001}\PY{p}{)}\PY{p}{,} \PY{n}{bins} \PY{o}{=} \PY{l+m+mi}{30}\PY{p}{)}
         
         \PY{l+s+sd}{\PYZdq{}\PYZdq{}\PYZdq{}numpy.hist has an extra element in the value array because the count array counts from the }
         \PY{l+s+sd}{first to the second number in value array, so we delete the last element here\PYZdq{}\PYZdq{}\PYZdq{}}
         \PY{n}{remove\PYZus{}last\PYZus{}element} \PY{o}{=} \PY{n}{np}\PY{o}{.}\PY{n}{delete}\PY{p}{(}\PY{n}{delinquint}\PY{p}{[}\PY{l+m+mi}{1}\PY{p}{]}\PY{p}{,}\PY{o}{\PYZhy{}}\PY{l+m+mi}{1}\PY{p}{)}
         
         \PY{n}{new\PYZus{}li} \PY{o}{=} \PY{p}{[}\PY{p}{]}
         \PY{k}{for} \PY{n}{e}\PY{p}{,}\PY{n}{i} \PY{o+ow}{in} \PY{n+nb}{enumerate}\PY{p}{(}\PY{n}{remove\PYZus{}last\PYZus{}element}\PY{p}{)}\PY{p}{:}
             \PY{n}{new\PYZus{}li}\PY{o}{.}\PY{n}{append}\PY{p}{(} \PY{p}{[}\PY{n}{i}\PY{p}{]} \PY{o}{*} \PY{n}{delinquint}\PY{p}{[}\PY{l+m+mi}{0}\PY{p}{]}\PY{p}{[}\PY{n}{e}\PY{p}{]}\PY{p}{)}
         \PY{n}{scaled\PYZus{}cooresponding\PYZus{}credit} \PY{o}{=} \PY{p}{[}\PY{n}{ii} \PY{k}{for} \PY{n}{i} \PY{o+ow}{in} \PY{n}{new\PYZus{}li} \PY{k}{for} \PY{n}{ii} \PY{o+ow}{in} \PY{n}{i}\PY{p}{]}
         
         \PY{n}{fig} \PY{o}{=} \PY{n}{plt}\PY{o}{.}\PY{n}{figure}\PY{p}{(}\PY{n}{figsize}\PY{o}{=}\PY{p}{(}\PY{l+m+mi}{8}\PY{p}{,} \PY{l+m+mi}{8}\PY{p}{)}\PY{p}{)}
         \PY{n}{delinquint\PYZus{}annuity\PYZus{}loan} \PY{o}{=} \PY{n}{fig}\PY{o}{.}\PY{n}{add\PYZus{}subplot}\PY{p}{(}\PY{l+m+mi}{111}\PY{p}{)}
         
         \PY{n+nb}{print}\PY{p}{(}\PY{l+s+s2}{\PYZdq{}}\PY{l+s+s2}{average annuity loan for people that defaulted on loan:}\PY{l+s+s2}{\PYZdq{}}\PY{p}{,} \PY{n}{np}\PY{o}{.}\PY{n}{mean}\PY{p}{(}\PY{n}{scaled\PYZus{}cooresponding\PYZus{}credit}\PY{p}{)}\PY{p}{)}
         
         \PY{l+s+sd}{\PYZdq{}\PYZdq{}\PYZdq{}creates histograms\PYZdq{}\PYZdq{}\PYZdq{}}
         \PY{n}{delinquint\PYZus{}annuity\PYZus{}loan}\PY{o}{.}\PY{n}{hist}\PY{p}{(}\PY{n}{scaled\PYZus{}cooresponding\PYZus{}credit}\PY{p}{,} \PY{l+m+mi}{100}\PY{p}{,} \PY{n}{density} \PY{o}{=} \PY{k+kc}{True}\PY{p}{)}
         \PY{l+s+sd}{\PYZdq{}\PYZdq{}\PYZdq{}gets y values for normal distribution\PYZdq{}\PYZdq{}\PYZdq{}}
         \PY{n}{fit\PYZus{}delinquint} \PY{o}{=} \PY{n}{stats}\PY{o}{.}\PY{n}{norm}\PY{o}{.}\PY{n}{pdf}\PY{p}{(}\PY{n}{scaled\PYZus{}cooresponding\PYZus{}credit}\PY{p}{,} \PY{n}{np}\PY{o}{.}\PY{n}{mean}\PY{p}{(}\PY{n}{scaled\PYZus{}cooresponding\PYZus{}credit}\PY{p}{)}\PY{p}{,} \PY{n}{np}\PY{o}{.}\PY{n}{std}\PY{p}{(}\PY{n}{scaled\PYZus{}cooresponding\PYZus{}credit}\PY{p}{)}\PY{p}{)}
         \PY{l+s+sd}{\PYZdq{}\PYZdq{}\PYZdq{}plots normal distribution\PYZdq{}\PYZdq{}\PYZdq{}}
         \PY{n}{delinquint\PYZus{}annuity\PYZus{}loan}\PY{o}{.}\PY{n}{plot}\PY{p}{(}\PY{n}{scaled\PYZus{}cooresponding\PYZus{}credit}\PY{p}{,} \PY{n}{fit\PYZus{}delinquint}\PY{p}{)}
         
         \PY{n}{delinquint\PYZus{}annuity\PYZus{}loan}\PY{o}{.}\PY{n}{annotate}\PY{p}{(}\PY{l+s+s2}{\PYZdq{}}\PY{l+s+s2}{loan borrowed against annuity for delinquint loanee}\PY{l+s+s2}{\PYZsq{}}\PY{l+s+s2}{s}\PY{l+s+s2}{\PYZdq{}}\PY{p}{,} \PY{n}{xy}\PY{o}{=}\PY{p}{[}\PY{l+m+mi}{30}\PY{p}{,}\PY{l+m+mf}{0.11}\PY{p}{]}\PY{p}{)}
         \PY{n}{delinquint\PYZus{}annuity\PYZus{}loan}\PY{o}{.}\PY{n}{set\PYZus{}xlabel}\PY{p}{(}\PY{l+s+s1}{\PYZsq{}}\PY{l+s+s1}{annuity line (\PYZdl{} thousands)}\PY{l+s+s1}{\PYZsq{}}\PY{p}{)}
         \PY{n}{ticks} \PY{o}{=} \PY{n}{delinquint\PYZus{}annuity\PYZus{}loan}\PY{o}{.}\PY{n}{get\PYZus{}xticks}\PY{p}{(}\PY{p}{)}\PY{o}{.}\PY{n}{tolist}\PY{p}{(}\PY{p}{)}
         \PY{n}{ticks} \PY{o}{=} \PY{p}{[}\PY{n+nb}{int}\PY{p}{(}\PY{n}{i}\PY{p}{)} \PY{k}{for} \PY{n}{i} \PY{o+ow}{in} \PY{n}{ticks}\PY{p}{]}
         
         
         \PY{n}{not\PYZus{}delinquint\PYZus{}annuity\PYZus{}amount} \PY{o}{=} \PY{n}{np}\PY{o}{.}\PY{n}{sort}\PY{p}{(}\PY{n}{np}\PY{o}{.}\PY{n}{array}\PY{p}{(}\PY{n}{target\PYZus{}is\PYZus{}zero}\PY{p}{[}\PY{l+s+s1}{\PYZsq{}}\PY{l+s+s1}{AMT\PYZus{}ANNUITY}\PY{l+s+s1}{\PYZsq{}}\PY{p}{]}\PY{p}{)}\PY{p}{)}
         \PY{n}{not\PYZus{}delinquint\PYZus{}annuity\PYZus{}amount} \PY{o}{=} \PY{n}{not\PYZus{}delinquint\PYZus{}annuity\PYZus{}amount}\PY{p}{[}\PY{o}{\PYZti{}}\PY{n}{np}\PY{o}{.}\PY{n}{isnan}\PY{p}{(}\PY{n}{not\PYZus{}delinquint\PYZus{}annuity\PYZus{}amount}\PY{p}{)}\PY{p}{]}
         \PY{n}{not\PYZus{}delinquint} \PY{o}{=} \PY{n}{np}\PY{o}{.}\PY{n}{histogram}\PY{p}{(}\PY{p}{(}\PY{n}{not\PYZus{}delinquint\PYZus{}annuity\PYZus{}amount} \PY{o}{*} \PY{o}{.}\PY{l+m+mi}{001}\PY{p}{)}\PY{p}{,} \PY{n}{bins} \PY{o}{=} \PY{l+m+mi}{30}\PY{p}{)}
         
         \PY{l+s+sd}{\PYZdq{}\PYZdq{}\PYZdq{}numpy.hist has an extra element in the value array because the count array counts from the }
         \PY{l+s+sd}{first to the second number in value array, so we delete the last element here\PYZdq{}\PYZdq{}\PYZdq{}}
         \PY{n}{remove\PYZus{}last\PYZus{}element} \PY{o}{=} \PY{n}{np}\PY{o}{.}\PY{n}{delete}\PY{p}{(}\PY{n}{not\PYZus{}delinquint}\PY{p}{[}\PY{l+m+mi}{1}\PY{p}{]}\PY{p}{,}\PY{o}{\PYZhy{}}\PY{l+m+mi}{1}\PY{p}{)}
         
         \PY{n}{new\PYZus{}li} \PY{o}{=} \PY{p}{[}\PY{p}{]}
         \PY{k}{for} \PY{n}{e}\PY{p}{,}\PY{n}{i} \PY{o+ow}{in} \PY{n+nb}{enumerate}\PY{p}{(}\PY{n}{remove\PYZus{}last\PYZus{}element}\PY{p}{)}\PY{p}{:}
             \PY{n}{new\PYZus{}li}\PY{o}{.}\PY{n}{append}\PY{p}{(} \PY{p}{[}\PY{n}{i}\PY{p}{]} \PY{o}{*} \PY{n}{not\PYZus{}delinquint}\PY{p}{[}\PY{l+m+mi}{0}\PY{p}{]}\PY{p}{[}\PY{n}{e}\PY{p}{]}\PY{p}{)}
         \PY{n}{scaled\PYZus{}cooresponding\PYZus{}credit} \PY{o}{=} \PY{p}{[}\PY{n}{ii} \PY{k}{for} \PY{n}{i} \PY{o+ow}{in} \PY{n}{new\PYZus{}li} \PY{k}{for} \PY{n}{ii} \PY{o+ow}{in} \PY{n}{i}\PY{p}{]}
         
         \PY{n}{fig\PYZus{}two} \PY{o}{=} \PY{n}{plt}\PY{o}{.}\PY{n}{figure}\PY{p}{(}\PY{n}{figsize}\PY{o}{=}\PY{p}{(}\PY{l+m+mi}{8}\PY{p}{,} \PY{l+m+mi}{8}\PY{p}{)}\PY{p}{)}
         \PY{n}{not\PYZus{}delinquint\PYZus{}annuity\PYZus{}loan} \PY{o}{=} \PY{n}{fig\PYZus{}two}\PY{o}{.}\PY{n}{add\PYZus{}subplot}\PY{p}{(}\PY{l+m+mi}{111}\PY{p}{)}
         
         \PY{n+nb}{print}\PY{p}{(}\PY{l+s+s2}{\PYZdq{}}\PY{l+s+s2}{average annuity loan for people that didn}\PY{l+s+s2}{\PYZsq{}}\PY{l+s+s2}{t default on loan:}\PY{l+s+s2}{\PYZdq{}}\PY{p}{,} \PY{n}{np}\PY{o}{.}\PY{n}{mean}\PY{p}{(}\PY{n}{scaled\PYZus{}cooresponding\PYZus{}credit}\PY{p}{)}\PY{p}{)}
         
         \PY{l+s+sd}{\PYZdq{}\PYZdq{}\PYZdq{}creates histograms\PYZdq{}\PYZdq{}\PYZdq{}}
         \PY{n}{not\PYZus{}delinquint\PYZus{}annuity\PYZus{}loan}\PY{o}{.}\PY{n}{hist}\PY{p}{(}\PY{n}{scaled\PYZus{}cooresponding\PYZus{}credit}\PY{p}{,} \PY{l+m+mi}{100}\PY{p}{,} \PY{n}{density} \PY{o}{=} \PY{k+kc}{True}\PY{p}{)}
         \PY{l+s+sd}{\PYZdq{}\PYZdq{}\PYZdq{}gets y values for normal distribution\PYZdq{}\PYZdq{}\PYZdq{}}
         \PY{n}{fit\PYZus{}not\PYZus{}delinquint} \PY{o}{=} \PY{n}{stats}\PY{o}{.}\PY{n}{norm}\PY{o}{.}\PY{n}{pdf}\PY{p}{(}\PY{n}{scaled\PYZus{}cooresponding\PYZus{}credit}\PY{p}{,} \PY{n}{np}\PY{o}{.}\PY{n}{mean}\PY{p}{(}\PY{n}{scaled\PYZus{}cooresponding\PYZus{}credit}\PY{p}{)}\PY{p}{,} \PY{n}{np}\PY{o}{.}\PY{n}{std}\PY{p}{(}\PY{n}{scaled\PYZus{}cooresponding\PYZus{}credit}\PY{p}{)}\PY{p}{)}
         \PY{l+s+sd}{\PYZdq{}\PYZdq{}\PYZdq{}plots normal distribution\PYZdq{}\PYZdq{}\PYZdq{}}
         \PY{n}{not\PYZus{}delinquint\PYZus{}annuity\PYZus{}loan}\PY{o}{.}\PY{n}{plot}\PY{p}{(}\PY{n}{scaled\PYZus{}cooresponding\PYZus{}credit}\PY{p}{,} \PY{n}{fit\PYZus{}not\PYZus{}delinquint}\PY{p}{)}
         
         \PY{n}{not\PYZus{}delinquint\PYZus{}annuity\PYZus{}loan}\PY{o}{.}\PY{n}{annotate}\PY{p}{(}\PY{l+s+s2}{\PYZdq{}}\PY{l+s+s2}{loan borrowed against annuity for non delinquint loanee}\PY{l+s+s2}{\PYZsq{}}\PY{l+s+s2}{s}\PY{l+s+s2}{\PYZdq{}}\PY{p}{,} \PY{n}{xy}\PY{o}{=}\PY{p}{[}\PY{l+m+mi}{30}\PY{p}{,}\PY{l+m+mf}{0.10}\PY{p}{]}\PY{p}{)}
         \PY{n}{not\PYZus{}delinquint\PYZus{}annuity\PYZus{}loan}\PY{o}{.}\PY{n}{set\PYZus{}xlabel}\PY{p}{(}\PY{l+s+s1}{\PYZsq{}}\PY{l+s+s1}{annuity line (\PYZdl{} thousands)}\PY{l+s+s1}{\PYZsq{}}\PY{p}{)}
         \PY{n}{not\PYZus{}delinquint\PYZus{}annuity\PYZus{}loan}\PY{o}{.}\PY{n}{set\PYZus{}xticklabels}\PY{p}{(}\PY{n}{ticks}\PY{p}{)}
\end{Verbatim}


    \begin{Verbatim}[commandchars=\\\{\}]
average annuity loan for people that defaulted on loan: 23.9079137221
average annuity loan for people that didn't default on loan: 22.7923907186

    \end{Verbatim}

\begin{Verbatim}[commandchars=\\\{\}]
{\color{outcolor}Out[{\color{outcolor}22}]:} [Text(0,0,'-20'),
          Text(0,0,'0'),
          Text(0,0,'20'),
          Text(0,0,'40'),
          Text(0,0,'60'),
          Text(0,0,'80'),
          Text(0,0,'100'),
          Text(0,0,'120')]
\end{Verbatim}
            
    \begin{center}
    \adjustimage{max size={0.9\linewidth}{0.9\paperheight}}{output_19_2.png}
    \end{center}
    { \hspace*{\fill} \\}
    
    \begin{center}
    \adjustimage{max size={0.9\linewidth}{0.9\paperheight}}{output_19_3.png}
    \end{center}
    { \hspace*{\fill} \\}
    
    Notice how these figures seem to be opposite of the credit line and
price of good distributions, where this average increases just over 1\%
for loans for where the loanee's are delinquint. The parameters
associated with taking out a loan on your own annuity are obviously
nowhere near as strict as taking out a credit loan where the bank is
giving you money. The lendee is not taking any real risk if you default
on your own annuity, therefore, as said before, the requirements are
easier which is the reason why the average amount in dollars is slightly
more for delinquint loanee's then it is for non delinquint loanee's.

    \begin{Verbatim}[commandchars=\\\{\}]
{\color{incolor}In [{\color{incolor}20}]:} \PY{n}{delinquint\PYZus{}price} \PY{o}{=} \PY{n}{np}\PY{o}{.}\PY{n}{sort}\PY{p}{(}\PY{n}{np}\PY{o}{.}\PY{n}{array}\PY{p}{(}\PY{n}{target\PYZus{}is\PYZus{}one}\PY{p}{[}\PY{l+s+s1}{\PYZsq{}}\PY{l+s+s1}{AMT\PYZus{}GOODS\PYZus{}PRICE}\PY{l+s+s1}{\PYZsq{}}\PY{p}{]}\PY{p}{)}\PY{p}{)}
         \PY{n}{delinquint\PYZus{}price} \PY{o}{=} \PY{n}{delinquint\PYZus{}price} \PY{p}{[}\PY{o}{\PYZti{}}\PY{n}{np}\PY{o}{.}\PY{n}{isnan}\PY{p}{(}\PY{n}{delinquint\PYZus{}price} \PY{p}{)}\PY{p}{]}
         \PY{l+s+sd}{\PYZdq{}\PYZdq{}\PYZdq{}scale and calculate bins for histogram\PYZdq{}\PYZdq{}\PYZdq{}}
         \PY{n}{delinquint} \PY{o}{=} \PY{n}{np}\PY{o}{.}\PY{n}{histogram}\PY{p}{(}\PY{p}{(}\PY{n}{delinquint\PYZus{}price} \PY{o}{*} \PY{o}{.}\PY{l+m+mi}{001}\PY{p}{)}\PY{p}{,} \PY{n}{bins} \PY{o}{=} \PY{l+m+mi}{30}\PY{p}{)}
         
         \PY{l+s+sd}{\PYZdq{}\PYZdq{}\PYZdq{}numpy.hist has an extra element in the value array because the count array counts from the }
         \PY{l+s+sd}{first to the second number in value array, so we delete the last element here\PYZdq{}\PYZdq{}\PYZdq{}}
         \PY{n}{remove\PYZus{}last\PYZus{}element} \PY{o}{=} \PY{n}{np}\PY{o}{.}\PY{n}{delete}\PY{p}{(}\PY{n}{delinquint}\PY{p}{[}\PY{l+m+mi}{1}\PY{p}{]}\PY{p}{,}\PY{o}{\PYZhy{}}\PY{l+m+mi}{1}\PY{p}{)}
         
         \PY{n}{new\PYZus{}li} \PY{o}{=} \PY{p}{[}\PY{p}{]}
         \PY{k}{for} \PY{n}{e}\PY{p}{,}\PY{n}{i} \PY{o+ow}{in} \PY{n+nb}{enumerate}\PY{p}{(}\PY{n}{remove\PYZus{}last\PYZus{}element}\PY{p}{)}\PY{p}{:}
             \PY{n}{new\PYZus{}li}\PY{o}{.}\PY{n}{append}\PY{p}{(} \PY{p}{[}\PY{n}{i}\PY{p}{]} \PY{o}{*} \PY{n}{delinquint}\PY{p}{[}\PY{l+m+mi}{0}\PY{p}{]}\PY{p}{[}\PY{n}{e}\PY{p}{]}\PY{p}{)}
         \PY{n}{scaled\PYZus{}cooresponding\PYZus{}price} \PY{o}{=} \PY{p}{[}\PY{n}{ii} \PY{k}{for} \PY{n}{i} \PY{o+ow}{in} \PY{n}{new\PYZus{}li} \PY{k}{for} \PY{n}{ii} \PY{o+ow}{in} \PY{n}{i}\PY{p}{]}
         
         \PY{n}{fig} \PY{o}{=} \PY{n}{plt}\PY{o}{.}\PY{n}{figure}\PY{p}{(}\PY{n}{figsize}\PY{o}{=}\PY{p}{(}\PY{l+m+mi}{8}\PY{p}{,} \PY{l+m+mi}{8}\PY{p}{)}\PY{p}{)}
         \PY{n}{delinquint\PYZus{}price} \PY{o}{=} \PY{n}{fig}\PY{o}{.}\PY{n}{add\PYZus{}subplot}\PY{p}{(}\PY{l+m+mi}{111}\PY{p}{)}
         
         \PY{n+nb}{print}\PY{p}{(}\PY{l+s+s2}{\PYZdq{}}\PY{l+s+s2}{average price of good loan was taken out for, for people that defaulted:}\PY{l+s+s2}{\PYZdq{}}\PY{p}{,} \PY{n}{np}\PY{o}{.}\PY{n}{mean}\PY{p}{(}\PY{n}{scaled\PYZus{}cooresponding\PYZus{}price}\PY{p}{)}\PY{p}{)}
         
         \PY{l+s+sd}{\PYZdq{}\PYZdq{}\PYZdq{}creates histograms\PYZdq{}\PYZdq{}\PYZdq{}}
         \PY{n}{delinquint\PYZus{}price}\PY{o}{.}\PY{n}{hist}\PY{p}{(}\PY{n}{scaled\PYZus{}cooresponding\PYZus{}price}\PY{p}{,} \PY{l+m+mi}{100}\PY{p}{,} \PY{n}{density} \PY{o}{=} \PY{k+kc}{True}\PY{p}{)}
         \PY{l+s+sd}{\PYZdq{}\PYZdq{}\PYZdq{}gets y values for normal distribution\PYZdq{}\PYZdq{}\PYZdq{}}
         \PY{n}{fit\PYZus{}delinquint} \PY{o}{=} \PY{n}{stats}\PY{o}{.}\PY{n}{norm}\PY{o}{.}\PY{n}{pdf}\PY{p}{(}\PY{n}{scaled\PYZus{}cooresponding\PYZus{}price}\PY{p}{,} \PY{n}{np}\PY{o}{.}\PY{n}{mean}\PY{p}{(}\PY{n}{scaled\PYZus{}cooresponding\PYZus{}price}\PY{p}{)}\PY{p}{,} \PY{n}{np}\PY{o}{.}\PY{n}{std}\PY{p}{(}\PY{n}{scaled\PYZus{}cooresponding\PYZus{}price}\PY{p}{)}\PY{p}{)}
         \PY{l+s+sd}{\PYZdq{}\PYZdq{}\PYZdq{}plots normal distribution\PYZdq{}\PYZdq{}\PYZdq{}}
         \PY{n}{delinquint\PYZus{}price}\PY{o}{.}\PY{n}{plot}\PY{p}{(}\PY{n}{scaled\PYZus{}cooresponding\PYZus{}price}\PY{p}{,} \PY{n}{fit\PYZus{}delinquint}\PY{p}{)}
         
         \PY{n}{delinquint\PYZus{}price}\PY{o}{.}\PY{n}{annotate}\PY{p}{(}\PY{l+s+s2}{\PYZdq{}}\PY{l+s+s2}{price for people that defaulted on loan}\PY{l+s+s2}{\PYZdq{}}\PY{p}{,} \PY{n}{xy}\PY{o}{=}\PY{p}{[}\PY{l+m+mi}{1200}\PY{p}{,}\PY{l+m+mf}{0.0058}\PY{p}{]}\PY{p}{)}
         \PY{n}{delinquint\PYZus{}price}\PY{o}{.}\PY{n}{set\PYZus{}xlabel}\PY{p}{(}\PY{l+s+s1}{\PYZsq{}}\PY{l+s+s1}{price (\PYZdl{} thousands)}\PY{l+s+s1}{\PYZsq{}}\PY{p}{)}
         
         
         
         
         \PY{n}{not\PYZus{}delinquint\PYZus{}price} \PY{o}{=} \PY{n}{np}\PY{o}{.}\PY{n}{sort}\PY{p}{(}\PY{n}{np}\PY{o}{.}\PY{n}{array}\PY{p}{(}\PY{n}{target\PYZus{}is\PYZus{}zero}\PY{p}{[}\PY{l+s+s1}{\PYZsq{}}\PY{l+s+s1}{AMT\PYZus{}GOODS\PYZus{}PRICE}\PY{l+s+s1}{\PYZsq{}}\PY{p}{]}\PY{p}{)}\PY{p}{)}
         \PY{n}{not\PYZus{}delinquint\PYZus{}price} \PY{o}{=} \PY{n}{not\PYZus{}delinquint\PYZus{}price}\PY{p}{[}\PY{o}{\PYZti{}}\PY{n}{np}\PY{o}{.}\PY{n}{isnan}\PY{p}{(}\PY{n}{not\PYZus{}delinquint\PYZus{}price}\PY{p}{)}\PY{p}{]}
         \PY{l+s+sd}{\PYZdq{}\PYZdq{}\PYZdq{}scale and calculate bins for histogram\PYZdq{}\PYZdq{}\PYZdq{}}
         \PY{n}{not\PYZus{}delinquint} \PY{o}{=} \PY{n}{np}\PY{o}{.}\PY{n}{histogram}\PY{p}{(}\PY{p}{(}\PY{n}{not\PYZus{}delinquint\PYZus{}price}  \PY{o}{*} \PY{o}{.}\PY{l+m+mi}{001}\PY{p}{)}\PY{p}{,} \PY{n}{bins} \PY{o}{=} \PY{l+m+mi}{30}\PY{p}{)}
         
         \PY{l+s+sd}{\PYZdq{}\PYZdq{}\PYZdq{}numpy.hist has an extra element in the value array because the count array counts from the }
         \PY{l+s+sd}{first to the second number in value array, so we delete the last element here\PYZdq{}\PYZdq{}\PYZdq{}}
         \PY{n}{remove\PYZus{}last\PYZus{}element} \PY{o}{=} \PY{n}{np}\PY{o}{.}\PY{n}{delete}\PY{p}{(}\PY{n}{not\PYZus{}delinquint}\PY{p}{[}\PY{l+m+mi}{1}\PY{p}{]}\PY{p}{,}\PY{o}{\PYZhy{}}\PY{l+m+mi}{1}\PY{p}{)}
         
         \PY{n}{new\PYZus{}li} \PY{o}{=} \PY{p}{[}\PY{p}{]}
         \PY{k}{for} \PY{n}{e}\PY{p}{,}\PY{n}{i} \PY{o+ow}{in} \PY{n+nb}{enumerate}\PY{p}{(}\PY{n}{remove\PYZus{}last\PYZus{}element}\PY{p}{)}\PY{p}{:}
             \PY{n}{new\PYZus{}li}\PY{o}{.}\PY{n}{append}\PY{p}{(} \PY{p}{[}\PY{n}{i}\PY{p}{]} \PY{o}{*} \PY{n}{not\PYZus{}delinquint}\PY{p}{[}\PY{l+m+mi}{0}\PY{p}{]}\PY{p}{[}\PY{n}{e}\PY{p}{]}\PY{p}{)}
         \PY{n}{scaled\PYZus{}cooresponding\PYZus{}price} \PY{o}{=} \PY{p}{[}\PY{n}{ii} \PY{k}{for} \PY{n}{i} \PY{o+ow}{in} \PY{n}{new\PYZus{}li} \PY{k}{for} \PY{n}{ii} \PY{o+ow}{in} \PY{n}{i}\PY{p}{]}
         
         \PY{n}{fig\PYZus{}two} \PY{o}{=} \PY{n}{plt}\PY{o}{.}\PY{n}{figure}\PY{p}{(}\PY{n}{figsize}\PY{o}{=}\PY{p}{(}\PY{l+m+mi}{8}\PY{p}{,} \PY{l+m+mi}{8}\PY{p}{)}\PY{p}{)}
         \PY{n}{not\PYZus{}delinquint\PYZus{}price} \PY{o}{=} \PY{n}{fig\PYZus{}two}\PY{o}{.}\PY{n}{add\PYZus{}subplot}\PY{p}{(}\PY{l+m+mi}{111}\PY{p}{)}
         
         \PY{n+nb}{print}\PY{p}{(}\PY{l+s+s2}{\PYZdq{}}\PY{l+s+s2}{average price of good loan was taken out for, for people that didn}\PY{l+s+s2}{\PYZsq{}}\PY{l+s+s2}{t default:}\PY{l+s+s2}{\PYZdq{}}\PY{p}{,} \PY{n}{np}\PY{o}{.}\PY{n}{mean}\PY{p}{(}\PY{n}{scaled\PYZus{}cooresponding\PYZus{}price}\PY{p}{)}\PY{p}{)}
         
         \PY{l+s+sd}{\PYZdq{}\PYZdq{}\PYZdq{}creates histograms\PYZdq{}\PYZdq{}\PYZdq{}}
         \PY{n}{not\PYZus{}delinquint\PYZus{}price}\PY{o}{.}\PY{n}{hist}\PY{p}{(}\PY{n}{scaled\PYZus{}cooresponding\PYZus{}price}\PY{p}{,} \PY{l+m+mi}{100}\PY{p}{,} \PY{n}{density} \PY{o}{=} \PY{k+kc}{True}\PY{p}{)}
         \PY{l+s+sd}{\PYZdq{}\PYZdq{}\PYZdq{}gets y values for normal distribution\PYZdq{}\PYZdq{}\PYZdq{}}
         \PY{n}{fit\PYZus{}not\PYZus{}delinquint} \PY{o}{=} \PY{n}{stats}\PY{o}{.}\PY{n}{norm}\PY{o}{.}\PY{n}{pdf}\PY{p}{(}\PY{n}{scaled\PYZus{}cooresponding\PYZus{}price}\PY{p}{,} \PY{n}{np}\PY{o}{.}\PY{n}{mean}\PY{p}{(}\PY{n}{scaled\PYZus{}cooresponding\PYZus{}price}\PY{p}{)}\PY{p}{,} \PY{n}{np}\PY{o}{.}\PY{n}{std}\PY{p}{(}\PY{n}{scaled\PYZus{}cooresponding\PYZus{}price}\PY{p}{)}\PY{p}{)}
         \PY{l+s+sd}{\PYZdq{}\PYZdq{}\PYZdq{}plots normal distribution\PYZdq{}\PYZdq{}\PYZdq{}}
         \PY{n}{not\PYZus{}delinquint\PYZus{}price}\PY{o}{.}\PY{n}{plot}\PY{p}{(}\PY{n}{scaled\PYZus{}cooresponding\PYZus{}price}\PY{p}{,} \PY{n}{fit\PYZus{}not\PYZus{}delinquint}\PY{p}{)}
         
         \PY{n}{not\PYZus{}delinquint\PYZus{}price}\PY{o}{.}\PY{n}{annotate}\PY{p}{(}\PY{l+s+s2}{\PYZdq{}}\PY{l+s+s2}{price for people that didn}\PY{l+s+s2}{\PYZsq{}}\PY{l+s+s2}{t defaulted on loan}\PY{l+s+s2}{\PYZdq{}}\PY{p}{,} \PY{n}{xy}\PY{o}{=}\PY{p}{[}\PY{l+m+mi}{1200}\PY{p}{,}\PY{l+m+mf}{0.0055}\PY{p}{]}\PY{p}{)}
         \PY{n}{not\PYZus{}delinquint\PYZus{}price}\PY{o}{.}\PY{n}{set\PYZus{}xlabel}\PY{p}{(}\PY{l+s+s1}{\PYZsq{}}\PY{l+s+s1}{price(\PYZdl{} thousands)}\PY{l+s+s1}{\PYZsq{}}\PY{p}{)}
\end{Verbatim}


    \begin{Verbatim}[commandchars=\\\{\}]
average price of good loan was taken out for, for people that defaulted: 434.998004354
average price of good loan was taken out for, for people that didn't default: 483.94198241

    \end{Verbatim}

\begin{Verbatim}[commandchars=\\\{\}]
{\color{outcolor}Out[{\color{outcolor}20}]:} Text(0.5,0,'price(\$ thousands)')
\end{Verbatim}
            
    \begin{center}
    \adjustimage{max size={0.9\linewidth}{0.9\paperheight}}{output_21_2.png}
    \end{center}
    { \hspace*{\fill} \\}
    
    \begin{center}
    \adjustimage{max size={0.9\linewidth}{0.9\paperheight}}{output_21_3.png}
    \end{center}
    { \hspace*{\fill} \\}
    
    The output were getting here is very similiar to the output associated
with credit loans amount for obvious reasons.


    % Add a bibliography block to the postdoc
    
    
    
    \end{document}
